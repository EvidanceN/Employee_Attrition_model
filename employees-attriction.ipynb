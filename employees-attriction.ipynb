{
 "cells": [
  {
   "cell_type": "markdown",
   "id": "04619f7f",
   "metadata": {
    "papermill": {
     "duration": 0.005546,
     "end_time": "2025-04-28T20:25:30.233281",
     "exception": false,
     "start_time": "2025-04-28T20:25:30.227735",
     "status": "completed"
    },
    "tags": []
   },
   "source": [
    "# Import Libraries\n"
   ]
  },
  {
   "cell_type": "code",
   "execution_count": 1,
   "id": "dfc79723",
   "metadata": {
    "execution": {
     "iopub.execute_input": "2025-04-28T20:25:30.244458Z",
     "iopub.status.busy": "2025-04-28T20:25:30.244169Z",
     "iopub.status.idle": "2025-04-28T20:25:34.251512Z",
     "shell.execute_reply": "2025-04-28T20:25:34.250443Z"
    },
    "papermill": {
     "duration": 4.015145,
     "end_time": "2025-04-28T20:25:34.253467",
     "exception": false,
     "start_time": "2025-04-28T20:25:30.238322",
     "status": "completed"
    },
    "tags": []
   },
   "outputs": [],
   "source": [
    "import pandas as pd \n",
    "import numpy as np\n",
    "import seaborn as sb\n",
    "import seaborn as sns\n",
    "import matplotlib.pyplot as plt\n",
    "\n",
    "\n",
    "from sklearn import metrics\n",
    "from sklearn.preprocessing import StandardScaler\n",
    "from sklearn.preprocessing import LabelEncoder\n",
    "from sklearn.model_selection import train_test_split\n",
    "from sklearn.linear_model import LogisticRegression\n",
    "from sklearn.metrics import accuracy_score, classification_report\n",
    "from sklearn.metrics import confusion_matrix, ConfusionMatrixDisplay\n",
    "\n"
   ]
  },
  {
   "cell_type": "markdown",
   "id": "12339922",
   "metadata": {
    "papermill": {
     "duration": 0.005642,
     "end_time": "2025-04-28T20:25:34.264066",
     "exception": false,
     "start_time": "2025-04-28T20:25:34.258424",
     "status": "completed"
    },
    "tags": []
   },
   "source": [
    "# Load train data"
   ]
  },
  {
   "cell_type": "code",
   "execution_count": 2,
   "id": "cdd91835",
   "metadata": {
    "execution": {
     "iopub.execute_input": "2025-04-28T20:25:34.274864Z",
     "iopub.status.busy": "2025-04-28T20:25:34.274375Z",
     "iopub.status.idle": "2025-04-28T20:25:34.691672Z",
     "shell.execute_reply": "2025-04-28T20:25:34.690777Z"
    },
    "papermill": {
     "duration": 0.424412,
     "end_time": "2025-04-28T20:25:34.693144",
     "exception": false,
     "start_time": "2025-04-28T20:25:34.268732",
     "status": "completed"
    },
    "tags": []
   },
   "outputs": [
    {
     "data": {
      "text/html": [
       "<div>\n",
       "<style scoped>\n",
       "    .dataframe tbody tr th:only-of-type {\n",
       "        vertical-align: middle;\n",
       "    }\n",
       "\n",
       "    .dataframe tbody tr th {\n",
       "        vertical-align: top;\n",
       "    }\n",
       "\n",
       "    .dataframe thead th {\n",
       "        text-align: right;\n",
       "    }\n",
       "</style>\n",
       "<table border=\"1\" class=\"dataframe\">\n",
       "  <thead>\n",
       "    <tr style=\"text-align: right;\">\n",
       "      <th></th>\n",
       "      <th>Employee ID</th>\n",
       "      <th>Age</th>\n",
       "      <th>Gender</th>\n",
       "      <th>Years at Company</th>\n",
       "      <th>Job Role</th>\n",
       "      <th>Monthly Income</th>\n",
       "      <th>Work-Life Balance</th>\n",
       "      <th>Job Satisfaction</th>\n",
       "      <th>Performance Rating</th>\n",
       "      <th>Number of Promotions</th>\n",
       "      <th>...</th>\n",
       "      <th>Number of Dependents</th>\n",
       "      <th>Job Level</th>\n",
       "      <th>Company Size</th>\n",
       "      <th>Company Tenure</th>\n",
       "      <th>Remote Work</th>\n",
       "      <th>Leadership Opportunities</th>\n",
       "      <th>Innovation Opportunities</th>\n",
       "      <th>Company Reputation</th>\n",
       "      <th>Employee Recognition</th>\n",
       "      <th>Attrition</th>\n",
       "    </tr>\n",
       "  </thead>\n",
       "  <tbody>\n",
       "    <tr>\n",
       "      <th>0</th>\n",
       "      <td>8410</td>\n",
       "      <td>31</td>\n",
       "      <td>Male</td>\n",
       "      <td>19</td>\n",
       "      <td>Education</td>\n",
       "      <td>5390</td>\n",
       "      <td>Excellent</td>\n",
       "      <td>Medium</td>\n",
       "      <td>Average</td>\n",
       "      <td>2</td>\n",
       "      <td>...</td>\n",
       "      <td>0</td>\n",
       "      <td>Mid</td>\n",
       "      <td>Medium</td>\n",
       "      <td>89</td>\n",
       "      <td>No</td>\n",
       "      <td>No</td>\n",
       "      <td>No</td>\n",
       "      <td>Excellent</td>\n",
       "      <td>Medium</td>\n",
       "      <td>Stayed</td>\n",
       "    </tr>\n",
       "    <tr>\n",
       "      <th>1</th>\n",
       "      <td>64756</td>\n",
       "      <td>59</td>\n",
       "      <td>Female</td>\n",
       "      <td>4</td>\n",
       "      <td>Media</td>\n",
       "      <td>5534</td>\n",
       "      <td>Poor</td>\n",
       "      <td>High</td>\n",
       "      <td>Low</td>\n",
       "      <td>3</td>\n",
       "      <td>...</td>\n",
       "      <td>3</td>\n",
       "      <td>Mid</td>\n",
       "      <td>Medium</td>\n",
       "      <td>21</td>\n",
       "      <td>No</td>\n",
       "      <td>No</td>\n",
       "      <td>No</td>\n",
       "      <td>Fair</td>\n",
       "      <td>Low</td>\n",
       "      <td>Stayed</td>\n",
       "    </tr>\n",
       "    <tr>\n",
       "      <th>2</th>\n",
       "      <td>30257</td>\n",
       "      <td>24</td>\n",
       "      <td>Female</td>\n",
       "      <td>10</td>\n",
       "      <td>Healthcare</td>\n",
       "      <td>8159</td>\n",
       "      <td>Good</td>\n",
       "      <td>High</td>\n",
       "      <td>Low</td>\n",
       "      <td>0</td>\n",
       "      <td>...</td>\n",
       "      <td>3</td>\n",
       "      <td>Mid</td>\n",
       "      <td>Medium</td>\n",
       "      <td>74</td>\n",
       "      <td>No</td>\n",
       "      <td>No</td>\n",
       "      <td>No</td>\n",
       "      <td>Poor</td>\n",
       "      <td>Low</td>\n",
       "      <td>Stayed</td>\n",
       "    </tr>\n",
       "    <tr>\n",
       "      <th>3</th>\n",
       "      <td>65791</td>\n",
       "      <td>36</td>\n",
       "      <td>Female</td>\n",
       "      <td>7</td>\n",
       "      <td>Education</td>\n",
       "      <td>3989</td>\n",
       "      <td>Good</td>\n",
       "      <td>High</td>\n",
       "      <td>High</td>\n",
       "      <td>1</td>\n",
       "      <td>...</td>\n",
       "      <td>2</td>\n",
       "      <td>Mid</td>\n",
       "      <td>Small</td>\n",
       "      <td>50</td>\n",
       "      <td>Yes</td>\n",
       "      <td>No</td>\n",
       "      <td>No</td>\n",
       "      <td>Good</td>\n",
       "      <td>Medium</td>\n",
       "      <td>Stayed</td>\n",
       "    </tr>\n",
       "    <tr>\n",
       "      <th>4</th>\n",
       "      <td>65026</td>\n",
       "      <td>56</td>\n",
       "      <td>Male</td>\n",
       "      <td>41</td>\n",
       "      <td>Education</td>\n",
       "      <td>4821</td>\n",
       "      <td>Fair</td>\n",
       "      <td>Very High</td>\n",
       "      <td>Average</td>\n",
       "      <td>0</td>\n",
       "      <td>...</td>\n",
       "      <td>0</td>\n",
       "      <td>Senior</td>\n",
       "      <td>Medium</td>\n",
       "      <td>68</td>\n",
       "      <td>No</td>\n",
       "      <td>No</td>\n",
       "      <td>No</td>\n",
       "      <td>Fair</td>\n",
       "      <td>Medium</td>\n",
       "      <td>Stayed</td>\n",
       "    </tr>\n",
       "  </tbody>\n",
       "</table>\n",
       "<p>5 rows × 24 columns</p>\n",
       "</div>"
      ],
      "text/plain": [
       "   Employee ID  Age  Gender  Years at Company    Job Role  Monthly Income  \\\n",
       "0         8410   31    Male                19   Education            5390   \n",
       "1        64756   59  Female                 4       Media            5534   \n",
       "2        30257   24  Female                10  Healthcare            8159   \n",
       "3        65791   36  Female                 7   Education            3989   \n",
       "4        65026   56    Male                41   Education            4821   \n",
       "\n",
       "  Work-Life Balance Job Satisfaction Performance Rating  Number of Promotions  \\\n",
       "0         Excellent           Medium            Average                     2   \n",
       "1              Poor             High                Low                     3   \n",
       "2              Good             High                Low                     0   \n",
       "3              Good             High               High                     1   \n",
       "4              Fair        Very High            Average                     0   \n",
       "\n",
       "   ... Number of Dependents  Job Level Company Size Company Tenure  \\\n",
       "0  ...                    0        Mid       Medium             89   \n",
       "1  ...                    3        Mid       Medium             21   \n",
       "2  ...                    3        Mid       Medium             74   \n",
       "3  ...                    2        Mid        Small             50   \n",
       "4  ...                    0     Senior       Medium             68   \n",
       "\n",
       "   Remote Work Leadership Opportunities Innovation Opportunities  \\\n",
       "0           No                       No                       No   \n",
       "1           No                       No                       No   \n",
       "2           No                       No                       No   \n",
       "3          Yes                       No                       No   \n",
       "4           No                       No                       No   \n",
       "\n",
       "   Company Reputation Employee Recognition Attrition  \n",
       "0           Excellent               Medium    Stayed  \n",
       "1                Fair                  Low    Stayed  \n",
       "2                Poor                  Low    Stayed  \n",
       "3                Good               Medium    Stayed  \n",
       "4                Fair               Medium    Stayed  \n",
       "\n",
       "[5 rows x 24 columns]"
      ]
     },
     "execution_count": 2,
     "metadata": {},
     "output_type": "execute_result"
    }
   ],
   "source": [
    "Employees_train_data=pd.read_csv('/kaggle/input/employee-attrition-dataset/train.csv')\n",
    "Employees_train_data.head()"
   ]
  },
  {
   "cell_type": "markdown",
   "id": "807567ee",
   "metadata": {
    "papermill": {
     "duration": 0.004973,
     "end_time": "2025-04-28T20:25:34.703454",
     "exception": false,
     "start_time": "2025-04-28T20:25:34.698481",
     "status": "completed"
    },
    "tags": []
   },
   "source": [
    "# Exploratory Data Analysis (EDA) "
   ]
  },
  {
   "cell_type": "code",
   "execution_count": 3,
   "id": "66c880f2",
   "metadata": {
    "execution": {
     "iopub.execute_input": "2025-04-28T20:25:34.715133Z",
     "iopub.status.busy": "2025-04-28T20:25:34.714808Z",
     "iopub.status.idle": "2025-04-28T20:25:34.795784Z",
     "shell.execute_reply": "2025-04-28T20:25:34.794606Z"
    },
    "papermill": {
     "duration": 0.088504,
     "end_time": "2025-04-28T20:25:34.797444",
     "exception": false,
     "start_time": "2025-04-28T20:25:34.708940",
     "status": "completed"
    },
    "tags": []
   },
   "outputs": [
    {
     "name": "stdout",
     "output_type": "stream",
     "text": [
      "<class 'pandas.core.frame.DataFrame'>\n",
      "RangeIndex: 59598 entries, 0 to 59597\n",
      "Data columns (total 24 columns):\n",
      " #   Column                    Non-Null Count  Dtype \n",
      "---  ------                    --------------  ----- \n",
      " 0   Employee ID               59598 non-null  int64 \n",
      " 1   Age                       59598 non-null  int64 \n",
      " 2   Gender                    59598 non-null  object\n",
      " 3   Years at Company          59598 non-null  int64 \n",
      " 4   Job Role                  59598 non-null  object\n",
      " 5   Monthly Income            59598 non-null  int64 \n",
      " 6   Work-Life Balance         59598 non-null  object\n",
      " 7   Job Satisfaction          59598 non-null  object\n",
      " 8   Performance Rating        59598 non-null  object\n",
      " 9   Number of Promotions      59598 non-null  int64 \n",
      " 10  Overtime                  59598 non-null  object\n",
      " 11  Distance from Home        59598 non-null  int64 \n",
      " 12  Education Level           59598 non-null  object\n",
      " 13  Marital Status            59598 non-null  object\n",
      " 14  Number of Dependents      59598 non-null  int64 \n",
      " 15  Job Level                 59598 non-null  object\n",
      " 16  Company Size              59598 non-null  object\n",
      " 17  Company Tenure            59598 non-null  int64 \n",
      " 18  Remote Work               59598 non-null  object\n",
      " 19  Leadership Opportunities  59598 non-null  object\n",
      " 20  Innovation Opportunities  59598 non-null  object\n",
      " 21  Company Reputation        59598 non-null  object\n",
      " 22  Employee Recognition      59598 non-null  object\n",
      " 23  Attrition                 59598 non-null  object\n",
      "dtypes: int64(8), object(16)\n",
      "memory usage: 10.9+ MB\n"
     ]
    }
   ],
   "source": [
    "# Quick info on data types and missing values\n",
    "Employees_train_data.info()"
   ]
  },
  {
   "cell_type": "code",
   "execution_count": 4,
   "id": "2a2fe3dc",
   "metadata": {
    "execution": {
     "iopub.execute_input": "2025-04-28T20:25:34.809441Z",
     "iopub.status.busy": "2025-04-28T20:25:34.809111Z",
     "iopub.status.idle": "2025-04-28T20:25:34.876085Z",
     "shell.execute_reply": "2025-04-28T20:25:34.875103Z"
    },
    "papermill": {
     "duration": 0.074849,
     "end_time": "2025-04-28T20:25:34.877643",
     "exception": false,
     "start_time": "2025-04-28T20:25:34.802794",
     "status": "completed"
    },
    "tags": []
   },
   "outputs": [
    {
     "data": {
      "text/plain": [
       "Employee ID                 0\n",
       "Age                         0\n",
       "Gender                      0\n",
       "Years at Company            0\n",
       "Job Role                    0\n",
       "Monthly Income              0\n",
       "Work-Life Balance           0\n",
       "Job Satisfaction            0\n",
       "Performance Rating          0\n",
       "Number of Promotions        0\n",
       "Overtime                    0\n",
       "Distance from Home          0\n",
       "Education Level             0\n",
       "Marital Status              0\n",
       "Number of Dependents        0\n",
       "Job Level                   0\n",
       "Company Size                0\n",
       "Company Tenure              0\n",
       "Remote Work                 0\n",
       "Leadership Opportunities    0\n",
       "Innovation Opportunities    0\n",
       "Company Reputation          0\n",
       "Employee Recognition        0\n",
       "Attrition                   0\n",
       "dtype: int64"
      ]
     },
     "execution_count": 4,
     "metadata": {},
     "output_type": "execute_result"
    }
   ],
   "source": [
    "#Sum of missing values per column\n",
    "Employees_train_data.isnull().sum()"
   ]
  },
  {
   "cell_type": "code",
   "execution_count": 5,
   "id": "0828f993",
   "metadata": {
    "execution": {
     "iopub.execute_input": "2025-04-28T20:25:34.889563Z",
     "iopub.status.busy": "2025-04-28T20:25:34.889229Z",
     "iopub.status.idle": "2025-04-28T20:25:34.933780Z",
     "shell.execute_reply": "2025-04-28T20:25:34.932922Z"
    },
    "papermill": {
     "duration": 0.05219,
     "end_time": "2025-04-28T20:25:34.935281",
     "exception": false,
     "start_time": "2025-04-28T20:25:34.883091",
     "status": "completed"
    },
    "tags": []
   },
   "outputs": [
    {
     "data": {
      "text/html": [
       "<div>\n",
       "<style scoped>\n",
       "    .dataframe tbody tr th:only-of-type {\n",
       "        vertical-align: middle;\n",
       "    }\n",
       "\n",
       "    .dataframe tbody tr th {\n",
       "        vertical-align: top;\n",
       "    }\n",
       "\n",
       "    .dataframe thead th {\n",
       "        text-align: right;\n",
       "    }\n",
       "</style>\n",
       "<table border=\"1\" class=\"dataframe\">\n",
       "  <thead>\n",
       "    <tr style=\"text-align: right;\">\n",
       "      <th></th>\n",
       "      <th>Employee ID</th>\n",
       "      <th>Age</th>\n",
       "      <th>Years at Company</th>\n",
       "      <th>Monthly Income</th>\n",
       "      <th>Number of Promotions</th>\n",
       "      <th>Distance from Home</th>\n",
       "      <th>Number of Dependents</th>\n",
       "      <th>Company Tenure</th>\n",
       "    </tr>\n",
       "  </thead>\n",
       "  <tbody>\n",
       "    <tr>\n",
       "      <th>count</th>\n",
       "      <td>59598.000000</td>\n",
       "      <td>59598.000000</td>\n",
       "      <td>59598.000000</td>\n",
       "      <td>59598.000000</td>\n",
       "      <td>59598.000000</td>\n",
       "      <td>59598.000000</td>\n",
       "      <td>59598.000000</td>\n",
       "      <td>59598.000000</td>\n",
       "    </tr>\n",
       "    <tr>\n",
       "      <th>mean</th>\n",
       "      <td>37227.118729</td>\n",
       "      <td>38.565875</td>\n",
       "      <td>15.753901</td>\n",
       "      <td>7302.397983</td>\n",
       "      <td>0.832578</td>\n",
       "      <td>50.007651</td>\n",
       "      <td>1.648075</td>\n",
       "      <td>55.758415</td>\n",
       "    </tr>\n",
       "    <tr>\n",
       "      <th>std</th>\n",
       "      <td>21519.150028</td>\n",
       "      <td>12.079673</td>\n",
       "      <td>11.245981</td>\n",
       "      <td>2151.457423</td>\n",
       "      <td>0.994991</td>\n",
       "      <td>28.466459</td>\n",
       "      <td>1.555689</td>\n",
       "      <td>25.411090</td>\n",
       "    </tr>\n",
       "    <tr>\n",
       "      <th>min</th>\n",
       "      <td>1.000000</td>\n",
       "      <td>18.000000</td>\n",
       "      <td>1.000000</td>\n",
       "      <td>1316.000000</td>\n",
       "      <td>0.000000</td>\n",
       "      <td>1.000000</td>\n",
       "      <td>0.000000</td>\n",
       "      <td>2.000000</td>\n",
       "    </tr>\n",
       "    <tr>\n",
       "      <th>25%</th>\n",
       "      <td>18580.250000</td>\n",
       "      <td>28.000000</td>\n",
       "      <td>7.000000</td>\n",
       "      <td>5658.000000</td>\n",
       "      <td>0.000000</td>\n",
       "      <td>25.000000</td>\n",
       "      <td>0.000000</td>\n",
       "      <td>36.000000</td>\n",
       "    </tr>\n",
       "    <tr>\n",
       "      <th>50%</th>\n",
       "      <td>37209.500000</td>\n",
       "      <td>39.000000</td>\n",
       "      <td>13.000000</td>\n",
       "      <td>7354.000000</td>\n",
       "      <td>1.000000</td>\n",
       "      <td>50.000000</td>\n",
       "      <td>1.000000</td>\n",
       "      <td>56.000000</td>\n",
       "    </tr>\n",
       "    <tr>\n",
       "      <th>75%</th>\n",
       "      <td>55876.750000</td>\n",
       "      <td>49.000000</td>\n",
       "      <td>23.000000</td>\n",
       "      <td>8880.000000</td>\n",
       "      <td>2.000000</td>\n",
       "      <td>75.000000</td>\n",
       "      <td>3.000000</td>\n",
       "      <td>76.000000</td>\n",
       "    </tr>\n",
       "    <tr>\n",
       "      <th>max</th>\n",
       "      <td>74498.000000</td>\n",
       "      <td>59.000000</td>\n",
       "      <td>51.000000</td>\n",
       "      <td>16149.000000</td>\n",
       "      <td>4.000000</td>\n",
       "      <td>99.000000</td>\n",
       "      <td>6.000000</td>\n",
       "      <td>128.000000</td>\n",
       "    </tr>\n",
       "  </tbody>\n",
       "</table>\n",
       "</div>"
      ],
      "text/plain": [
       "        Employee ID           Age  Years at Company  Monthly Income  \\\n",
       "count  59598.000000  59598.000000      59598.000000    59598.000000   \n",
       "mean   37227.118729     38.565875         15.753901     7302.397983   \n",
       "std    21519.150028     12.079673         11.245981     2151.457423   \n",
       "min        1.000000     18.000000          1.000000     1316.000000   \n",
       "25%    18580.250000     28.000000          7.000000     5658.000000   \n",
       "50%    37209.500000     39.000000         13.000000     7354.000000   \n",
       "75%    55876.750000     49.000000         23.000000     8880.000000   \n",
       "max    74498.000000     59.000000         51.000000    16149.000000   \n",
       "\n",
       "       Number of Promotions  Distance from Home  Number of Dependents  \\\n",
       "count          59598.000000        59598.000000          59598.000000   \n",
       "mean               0.832578           50.007651              1.648075   \n",
       "std                0.994991           28.466459              1.555689   \n",
       "min                0.000000            1.000000              0.000000   \n",
       "25%                0.000000           25.000000              0.000000   \n",
       "50%                1.000000           50.000000              1.000000   \n",
       "75%                2.000000           75.000000              3.000000   \n",
       "max                4.000000           99.000000              6.000000   \n",
       "\n",
       "       Company Tenure  \n",
       "count    59598.000000  \n",
       "mean        55.758415  \n",
       "std         25.411090  \n",
       "min          2.000000  \n",
       "25%         36.000000  \n",
       "50%         56.000000  \n",
       "75%         76.000000  \n",
       "max        128.000000  "
      ]
     },
     "execution_count": 5,
     "metadata": {},
     "output_type": "execute_result"
    }
   ],
   "source": [
    "#Statistical summary\n",
    "Employees_train_data.describe()"
   ]
  },
  {
   "cell_type": "code",
   "execution_count": 6,
   "id": "8d1ba689",
   "metadata": {
    "execution": {
     "iopub.execute_input": "2025-04-28T20:25:34.947456Z",
     "iopub.status.busy": "2025-04-28T20:25:34.947148Z",
     "iopub.status.idle": "2025-04-28T20:25:34.952408Z",
     "shell.execute_reply": "2025-04-28T20:25:34.951610Z"
    },
    "papermill": {
     "duration": 0.012905,
     "end_time": "2025-04-28T20:25:34.953833",
     "exception": false,
     "start_time": "2025-04-28T20:25:34.940928",
     "status": "completed"
    },
    "tags": []
   },
   "outputs": [
    {
     "data": {
      "text/plain": [
       "(59598, 24)"
      ]
     },
     "execution_count": 6,
     "metadata": {},
     "output_type": "execute_result"
    }
   ],
   "source": [
    "# Shape of dataset\n",
    "Employees_train_data.shape"
   ]
  },
  {
   "cell_type": "code",
   "execution_count": 7,
   "id": "15b1bd33",
   "metadata": {
    "execution": {
     "iopub.execute_input": "2025-04-28T20:25:34.966191Z",
     "iopub.status.busy": "2025-04-28T20:25:34.965886Z",
     "iopub.status.idle": "2025-04-28T20:25:35.095175Z",
     "shell.execute_reply": "2025-04-28T20:25:35.094063Z"
    },
    "papermill": {
     "duration": 0.137228,
     "end_time": "2025-04-28T20:25:35.096859",
     "exception": false,
     "start_time": "2025-04-28T20:25:34.959631",
     "status": "completed"
    },
    "tags": []
   },
   "outputs": [
    {
     "name": "stdout",
     "output_type": "stream",
     "text": [
      "Gender : ['Male' 'Female']\n",
      "Gender\n",
      "Male      32739\n",
      "Female    26859\n",
      "Name: count, dtype: int64\n",
      "Job Role : ['Education' 'Media' 'Healthcare' 'Technology' 'Finance']\n",
      "Job Role\n",
      "Technology    15507\n",
      "Healthcare    13642\n",
      "Education     12490\n",
      "Media          9574\n",
      "Finance        8385\n",
      "Name: count, dtype: int64\n",
      "Work-Life Balance : ['Excellent' 'Poor' 'Good' 'Fair']\n",
      "Work-Life Balance\n",
      "Good         22528\n",
      "Fair         18046\n",
      "Excellent    10719\n",
      "Poor          8305\n",
      "Name: count, dtype: int64\n",
      "Job Satisfaction : ['Medium' 'High' 'Very High' 'Low']\n",
      "Job Satisfaction\n",
      "High         29779\n",
      "Very High    12111\n",
      "Medium       11817\n",
      "Low           5891\n",
      "Name: count, dtype: int64\n",
      "Performance Rating : ['Average' 'Low' 'High' 'Below Average']\n",
      "Performance Rating\n",
      "Average          35810\n",
      "High             11888\n",
      "Below Average     8950\n",
      "Low               2950\n",
      "Name: count, dtype: int64\n",
      "Overtime : ['No' 'Yes']\n",
      "Overtime\n",
      "No     40148\n",
      "Yes    19450\n",
      "Name: count, dtype: int64\n",
      "Education Level : ['Associate Degree' 'Master’s Degree' 'Bachelor’s Degree' 'High School'\n",
      " 'PhD']\n",
      "Education Level\n",
      "Bachelor’s Degree    17826\n",
      "Associate Degree     14915\n",
      "Master’s Degree      12020\n",
      "High School          11748\n",
      "PhD                   3089\n",
      "Name: count, dtype: int64\n",
      "Marital Status : ['Married' 'Divorced' 'Single']\n",
      "Marital Status\n",
      "Married     29908\n",
      "Single      20835\n",
      "Divorced     8855\n",
      "Name: count, dtype: int64\n",
      "Job Level : ['Mid' 'Senior' 'Entry']\n",
      "Job Level\n",
      "Entry     23867\n",
      "Mid       23753\n",
      "Senior    11978\n",
      "Name: count, dtype: int64\n",
      "Company Size : ['Medium' 'Small' 'Large']\n",
      "Company Size\n",
      "Medium    29745\n",
      "Small     17935\n",
      "Large     11918\n",
      "Name: count, dtype: int64\n",
      "Remote Work : ['No' 'Yes']\n",
      "Remote Work\n",
      "No     48239\n",
      "Yes    11359\n",
      "Name: count, dtype: int64\n",
      "Leadership Opportunities : ['No' 'Yes']\n",
      "Leadership Opportunities\n",
      "No     56680\n",
      "Yes     2918\n",
      "Name: count, dtype: int64\n",
      "Innovation Opportunities : ['No' 'Yes']\n",
      "Innovation Opportunities\n",
      "No     49895\n",
      "Yes     9703\n",
      "Name: count, dtype: int64\n",
      "Company Reputation : ['Excellent' 'Fair' 'Poor' 'Good']\n",
      "Company Reputation\n",
      "Good         29766\n",
      "Poor         12034\n",
      "Fair         11817\n",
      "Excellent     5981\n",
      "Name: count, dtype: int64\n",
      "Employee Recognition : ['Medium' 'Low' 'High' 'Very High']\n",
      "Employee Recognition\n",
      "Low          23758\n",
      "Medium       18033\n",
      "High         14844\n",
      "Very High     2963\n",
      "Name: count, dtype: int64\n",
      "Attrition : ['Stayed' 'Left']\n",
      "Attrition\n",
      "Stayed    31260\n",
      "Left      28338\n",
      "Name: count, dtype: int64\n"
     ]
    }
   ],
   "source": [
    "# Unique values\n",
    "for column in Employees_train_data.columns:\n",
    "    if Employees_train_data[column].dtype == object:\n",
    "        print(str(column)+ ' : '+ str(Employees_train_data[column].unique()))\n",
    "        print(Employees_train_data[column].value_counts())"
   ]
  },
  {
   "cell_type": "markdown",
   "id": "f8c571cb",
   "metadata": {
    "papermill": {
     "duration": 0.005491,
     "end_time": "2025-04-28T20:25:35.108306",
     "exception": false,
     "start_time": "2025-04-28T20:25:35.102815",
     "status": "completed"
    },
    "tags": []
   },
   "source": [
    "# Feature Engeneering"
   ]
  },
  {
   "cell_type": "code",
   "execution_count": 8,
   "id": "bb4a1f03",
   "metadata": {
    "execution": {
     "iopub.execute_input": "2025-04-28T20:25:35.121268Z",
     "iopub.status.busy": "2025-04-28T20:25:35.120939Z",
     "iopub.status.idle": "2025-04-28T20:25:35.126342Z",
     "shell.execute_reply": "2025-04-28T20:25:35.125596Z"
    },
    "papermill": {
     "duration": 0.013891,
     "end_time": "2025-04-28T20:25:35.127736",
     "exception": false,
     "start_time": "2025-04-28T20:25:35.113845",
     "status": "completed"
    },
    "tags": []
   },
   "outputs": [
    {
     "data": {
      "text/plain": [
       "Index(['Employee ID', 'Age', 'Gender', 'Years at Company', 'Job Role',\n",
       "       'Monthly Income', 'Work-Life Balance', 'Job Satisfaction',\n",
       "       'Performance Rating', 'Number of Promotions', 'Overtime',\n",
       "       'Distance from Home', 'Education Level', 'Marital Status',\n",
       "       'Number of Dependents', 'Job Level', 'Company Size', 'Company Tenure',\n",
       "       'Remote Work', 'Leadership Opportunities', 'Innovation Opportunities',\n",
       "       'Company Reputation', 'Employee Recognition', 'Attrition'],\n",
       "      dtype='object')"
      ]
     },
     "execution_count": 8,
     "metadata": {},
     "output_type": "execute_result"
    }
   ],
   "source": [
    "# Columns in the dataset\n",
    "Employees_train_data.columns"
   ]
  },
  {
   "cell_type": "code",
   "execution_count": 9,
   "id": "7ed0f9dc",
   "metadata": {
    "execution": {
     "iopub.execute_input": "2025-04-28T20:25:35.140280Z",
     "iopub.status.busy": "2025-04-28T20:25:35.139993Z",
     "iopub.status.idle": "2025-04-28T20:25:35.326809Z",
     "shell.execute_reply": "2025-04-28T20:25:35.325862Z"
    },
    "papermill": {
     "duration": 0.195026,
     "end_time": "2025-04-28T20:25:35.328504",
     "exception": false,
     "start_time": "2025-04-28T20:25:35.133478",
     "status": "completed"
    },
    "tags": []
   },
   "outputs": [],
   "source": [
    "# Label encoding\n",
    "columns=['Gender', 'Job Role', 'Work-Life Balance', 'Job Satisfaction', 'Performance Rating',  'Education Level', 'Marital Status', 'Job Level', 'Company Size',\n",
    "       'Remote Work', 'Leadership Opportunities', 'Innovation Opportunities', 'Company Reputation', 'Employee Recognition', 'Attrition']\n",
    "le =LabelEncoder()\n",
    "Employees_train_data[columns]=Employees_train_data[columns].apply(le.fit_transform)"
   ]
  },
  {
   "cell_type": "code",
   "execution_count": 10,
   "id": "6496e0d0",
   "metadata": {
    "execution": {
     "iopub.execute_input": "2025-04-28T20:25:35.343172Z",
     "iopub.status.busy": "2025-04-28T20:25:35.342324Z",
     "iopub.status.idle": "2025-04-28T20:25:35.348995Z",
     "shell.execute_reply": "2025-04-28T20:25:35.348158Z"
    },
    "papermill": {
     "duration": 0.015704,
     "end_time": "2025-04-28T20:25:35.350318",
     "exception": false,
     "start_time": "2025-04-28T20:25:35.334614",
     "status": "completed"
    },
    "tags": []
   },
   "outputs": [
    {
     "data": {
      "text/plain": [
       "59593    0\n",
       "59594    0\n",
       "59595    1\n",
       "59596    0\n",
       "59597    1\n",
       "Name: Attrition, dtype: int64"
      ]
     },
     "execution_count": 10,
     "metadata": {},
     "output_type": "execute_result"
    }
   ],
   "source": [
    "#Dropping target\n",
    "y=Employees_train_data.Attrition\n",
    "y.tail()"
   ]
  },
  {
   "cell_type": "code",
   "execution_count": 11,
   "id": "e9444da5",
   "metadata": {
    "execution": {
     "iopub.execute_input": "2025-04-28T20:25:35.363394Z",
     "iopub.status.busy": "2025-04-28T20:25:35.363052Z",
     "iopub.status.idle": "2025-04-28T20:25:35.379255Z",
     "shell.execute_reply": "2025-04-28T20:25:35.378446Z"
    },
    "papermill": {
     "duration": 0.024471,
     "end_time": "2025-04-28T20:25:35.380761",
     "exception": false,
     "start_time": "2025-04-28T20:25:35.356290",
     "status": "completed"
    },
    "tags": []
   },
   "outputs": [
    {
     "data": {
      "text/html": [
       "<div>\n",
       "<style scoped>\n",
       "    .dataframe tbody tr th:only-of-type {\n",
       "        vertical-align: middle;\n",
       "    }\n",
       "\n",
       "    .dataframe tbody tr th {\n",
       "        vertical-align: top;\n",
       "    }\n",
       "\n",
       "    .dataframe thead th {\n",
       "        text-align: right;\n",
       "    }\n",
       "</style>\n",
       "<table border=\"1\" class=\"dataframe\">\n",
       "  <thead>\n",
       "    <tr style=\"text-align: right;\">\n",
       "      <th></th>\n",
       "      <th>Gender</th>\n",
       "      <th>Job Role</th>\n",
       "      <th>Work-Life Balance</th>\n",
       "      <th>Job Satisfaction</th>\n",
       "      <th>Performance Rating</th>\n",
       "      <th>Education Level</th>\n",
       "      <th>Marital Status</th>\n",
       "      <th>Job Level</th>\n",
       "      <th>Company Size</th>\n",
       "      <th>Remote Work</th>\n",
       "      <th>Leadership Opportunities</th>\n",
       "      <th>Innovation Opportunities</th>\n",
       "      <th>Company Reputation</th>\n",
       "      <th>Employee Recognition</th>\n",
       "    </tr>\n",
       "  </thead>\n",
       "  <tbody>\n",
       "    <tr>\n",
       "      <th>0</th>\n",
       "      <td>1</td>\n",
       "      <td>0</td>\n",
       "      <td>0</td>\n",
       "      <td>2</td>\n",
       "      <td>0</td>\n",
       "      <td>0</td>\n",
       "      <td>1</td>\n",
       "      <td>1</td>\n",
       "      <td>1</td>\n",
       "      <td>0</td>\n",
       "      <td>0</td>\n",
       "      <td>0</td>\n",
       "      <td>0</td>\n",
       "      <td>2</td>\n",
       "    </tr>\n",
       "    <tr>\n",
       "      <th>1</th>\n",
       "      <td>0</td>\n",
       "      <td>3</td>\n",
       "      <td>3</td>\n",
       "      <td>0</td>\n",
       "      <td>3</td>\n",
       "      <td>3</td>\n",
       "      <td>0</td>\n",
       "      <td>1</td>\n",
       "      <td>1</td>\n",
       "      <td>0</td>\n",
       "      <td>0</td>\n",
       "      <td>0</td>\n",
       "      <td>1</td>\n",
       "      <td>1</td>\n",
       "    </tr>\n",
       "    <tr>\n",
       "      <th>2</th>\n",
       "      <td>0</td>\n",
       "      <td>2</td>\n",
       "      <td>2</td>\n",
       "      <td>0</td>\n",
       "      <td>3</td>\n",
       "      <td>1</td>\n",
       "      <td>1</td>\n",
       "      <td>1</td>\n",
       "      <td>1</td>\n",
       "      <td>0</td>\n",
       "      <td>0</td>\n",
       "      <td>0</td>\n",
       "      <td>3</td>\n",
       "      <td>1</td>\n",
       "    </tr>\n",
       "    <tr>\n",
       "      <th>3</th>\n",
       "      <td>0</td>\n",
       "      <td>0</td>\n",
       "      <td>2</td>\n",
       "      <td>0</td>\n",
       "      <td>2</td>\n",
       "      <td>2</td>\n",
       "      <td>2</td>\n",
       "      <td>1</td>\n",
       "      <td>2</td>\n",
       "      <td>1</td>\n",
       "      <td>0</td>\n",
       "      <td>0</td>\n",
       "      <td>2</td>\n",
       "      <td>2</td>\n",
       "    </tr>\n",
       "    <tr>\n",
       "      <th>4</th>\n",
       "      <td>1</td>\n",
       "      <td>0</td>\n",
       "      <td>1</td>\n",
       "      <td>3</td>\n",
       "      <td>0</td>\n",
       "      <td>2</td>\n",
       "      <td>0</td>\n",
       "      <td>2</td>\n",
       "      <td>1</td>\n",
       "      <td>0</td>\n",
       "      <td>0</td>\n",
       "      <td>0</td>\n",
       "      <td>1</td>\n",
       "      <td>2</td>\n",
       "    </tr>\n",
       "  </tbody>\n",
       "</table>\n",
       "</div>"
      ],
      "text/plain": [
       "   Gender  Job Role  Work-Life Balance  Job Satisfaction  Performance Rating  \\\n",
       "0       1         0                  0                 2                   0   \n",
       "1       0         3                  3                 0                   3   \n",
       "2       0         2                  2                 0                   3   \n",
       "3       0         0                  2                 0                   2   \n",
       "4       1         0                  1                 3                   0   \n",
       "\n",
       "   Education Level  Marital Status  Job Level  Company Size  Remote Work  \\\n",
       "0                0               1          1             1            0   \n",
       "1                3               0          1             1            0   \n",
       "2                1               1          1             1            0   \n",
       "3                2               2          1             2            1   \n",
       "4                2               0          2             1            0   \n",
       "\n",
       "   Leadership Opportunities  Innovation Opportunities  Company Reputation  \\\n",
       "0                         0                         0                   0   \n",
       "1                         0                         0                   1   \n",
       "2                         0                         0                   3   \n",
       "3                         0                         0                   2   \n",
       "4                         0                         0                   1   \n",
       "\n",
       "   Employee Recognition  \n",
       "0                     2  \n",
       "1                     1  \n",
       "2                     1  \n",
       "3                     2  \n",
       "4                     2  "
      ]
     },
     "execution_count": 11,
     "metadata": {},
     "output_type": "execute_result"
    }
   ],
   "source": [
    "# Feature selection\n",
    "columns=['Gender',  'Job Role', 'Work-Life Balance', 'Job Satisfaction', 'Performance Rating',  'Education Level', 'Marital Status', 'Job Level', 'Company Size',\n",
    "       'Remote Work', 'Leadership Opportunities', 'Innovation Opportunities', 'Company Reputation', 'Employee Recognition']\n",
    "X=Employees_train_data[columns]\n",
    "X.head()"
   ]
  },
  {
   "cell_type": "markdown",
   "id": "e2ec8c48",
   "metadata": {
    "papermill": {
     "duration": 0.005699,
     "end_time": "2025-04-28T20:25:35.392698",
     "exception": false,
     "start_time": "2025-04-28T20:25:35.386999",
     "status": "completed"
    },
    "tags": []
   },
   "source": [
    "# Split Data into Train/Test"
   ]
  },
  {
   "cell_type": "code",
   "execution_count": 12,
   "id": "00b3614b",
   "metadata": {
    "execution": {
     "iopub.execute_input": "2025-04-28T20:25:35.405840Z",
     "iopub.status.busy": "2025-04-28T20:25:35.405502Z",
     "iopub.status.idle": "2025-04-28T20:25:35.446526Z",
     "shell.execute_reply": "2025-04-28T20:25:35.445516Z"
    },
    "papermill": {
     "duration": 0.0497,
     "end_time": "2025-04-28T20:25:35.448280",
     "exception": false,
     "start_time": "2025-04-28T20:25:35.398580",
     "status": "completed"
    },
    "tags": []
   },
   "outputs": [],
   "source": [
    "X_train, X_test ,y_train, y_test=train_test_split(X,y,test_size = 0.2, stratify=y, random_state=2)"
   ]
  },
  {
   "cell_type": "code",
   "execution_count": 13,
   "id": "7ef1fd4e",
   "metadata": {
    "execution": {
     "iopub.execute_input": "2025-04-28T20:25:35.461877Z",
     "iopub.status.busy": "2025-04-28T20:25:35.461559Z",
     "iopub.status.idle": "2025-04-28T20:25:35.522306Z",
     "shell.execute_reply": "2025-04-28T20:25:35.521589Z"
    },
    "papermill": {
     "duration": 0.069249,
     "end_time": "2025-04-28T20:25:35.523903",
     "exception": false,
     "start_time": "2025-04-28T20:25:35.454654",
     "status": "completed"
    },
    "tags": []
   },
   "outputs": [],
   "source": [
    "#  test data to be scaled in the same way as the training data.\n",
    "sc = StandardScaler()\n",
    "X_train = sc.fit_transform(X_train)\n",
    "X_test = sc.transform(X_test)"
   ]
  },
  {
   "cell_type": "code",
   "execution_count": 14,
   "id": "c6e58bbc",
   "metadata": {
    "execution": {
     "iopub.execute_input": "2025-04-28T20:25:35.537862Z",
     "iopub.status.busy": "2025-04-28T20:25:35.537505Z",
     "iopub.status.idle": "2025-04-28T20:25:35.542420Z",
     "shell.execute_reply": "2025-04-28T20:25:35.541322Z"
    },
    "papermill": {
     "duration": 0.013495,
     "end_time": "2025-04-28T20:25:35.543862",
     "exception": false,
     "start_time": "2025-04-28T20:25:35.530367",
     "status": "completed"
    },
    "tags": []
   },
   "outputs": [
    {
     "name": "stdout",
     "output_type": "stream",
     "text": [
      "(59598, 14) (47678, 14) (11920, 14)\n"
     ]
    }
   ],
   "source": [
    "print(X.shape, X_train.shape, X_test.shape)"
   ]
  },
  {
   "cell_type": "markdown",
   "id": "33877c02",
   "metadata": {
    "papermill": {
     "duration": 0.006025,
     "end_time": "2025-04-28T20:25:35.556229",
     "exception": false,
     "start_time": "2025-04-28T20:25:35.550204",
     "status": "completed"
    },
    "tags": []
   },
   "source": [
    "# Creating the model"
   ]
  },
  {
   "cell_type": "code",
   "execution_count": 15,
   "id": "f1196e1f",
   "metadata": {
    "execution": {
     "iopub.execute_input": "2025-04-28T20:25:35.569785Z",
     "iopub.status.busy": "2025-04-28T20:25:35.569437Z",
     "iopub.status.idle": "2025-04-28T20:25:35.573632Z",
     "shell.execute_reply": "2025-04-28T20:25:35.572698Z"
    },
    "papermill": {
     "duration": 0.012489,
     "end_time": "2025-04-28T20:25:35.574940",
     "exception": false,
     "start_time": "2025-04-28T20:25:35.562451",
     "status": "completed"
    },
    "tags": []
   },
   "outputs": [],
   "source": [
    "Employees_attrition_model=LogisticRegression()"
   ]
  },
  {
   "cell_type": "markdown",
   "id": "41ba1bbe",
   "metadata": {
    "papermill": {
     "duration": 0.00606,
     "end_time": "2025-04-28T20:25:35.587274",
     "exception": false,
     "start_time": "2025-04-28T20:25:35.581214",
     "status": "completed"
    },
    "tags": []
   },
   "source": [
    "# Fiting the model"
   ]
  },
  {
   "cell_type": "code",
   "execution_count": 16,
   "id": "082dc3f5",
   "metadata": {
    "execution": {
     "iopub.execute_input": "2025-04-28T20:25:35.601152Z",
     "iopub.status.busy": "2025-04-28T20:25:35.600841Z",
     "iopub.status.idle": "2025-04-28T20:25:35.684654Z",
     "shell.execute_reply": "2025-04-28T20:25:35.682837Z"
    },
    "papermill": {
     "duration": 0.093296,
     "end_time": "2025-04-28T20:25:35.686815",
     "exception": false,
     "start_time": "2025-04-28T20:25:35.593519",
     "status": "completed"
    },
    "tags": []
   },
   "outputs": [
    {
     "data": {
      "text/html": [
       "<style>#sk-container-id-1 {color: black;background-color: white;}#sk-container-id-1 pre{padding: 0;}#sk-container-id-1 div.sk-toggleable {background-color: white;}#sk-container-id-1 label.sk-toggleable__label {cursor: pointer;display: block;width: 100%;margin-bottom: 0;padding: 0.3em;box-sizing: border-box;text-align: center;}#sk-container-id-1 label.sk-toggleable__label-arrow:before {content: \"▸\";float: left;margin-right: 0.25em;color: #696969;}#sk-container-id-1 label.sk-toggleable__label-arrow:hover:before {color: black;}#sk-container-id-1 div.sk-estimator:hover label.sk-toggleable__label-arrow:before {color: black;}#sk-container-id-1 div.sk-toggleable__content {max-height: 0;max-width: 0;overflow: hidden;text-align: left;background-color: #f0f8ff;}#sk-container-id-1 div.sk-toggleable__content pre {margin: 0.2em;color: black;border-radius: 0.25em;background-color: #f0f8ff;}#sk-container-id-1 input.sk-toggleable__control:checked~div.sk-toggleable__content {max-height: 200px;max-width: 100%;overflow: auto;}#sk-container-id-1 input.sk-toggleable__control:checked~label.sk-toggleable__label-arrow:before {content: \"▾\";}#sk-container-id-1 div.sk-estimator input.sk-toggleable__control:checked~label.sk-toggleable__label {background-color: #d4ebff;}#sk-container-id-1 div.sk-label input.sk-toggleable__control:checked~label.sk-toggleable__label {background-color: #d4ebff;}#sk-container-id-1 input.sk-hidden--visually {border: 0;clip: rect(1px 1px 1px 1px);clip: rect(1px, 1px, 1px, 1px);height: 1px;margin: -1px;overflow: hidden;padding: 0;position: absolute;width: 1px;}#sk-container-id-1 div.sk-estimator {font-family: monospace;background-color: #f0f8ff;border: 1px dotted black;border-radius: 0.25em;box-sizing: border-box;margin-bottom: 0.5em;}#sk-container-id-1 div.sk-estimator:hover {background-color: #d4ebff;}#sk-container-id-1 div.sk-parallel-item::after {content: \"\";width: 100%;border-bottom: 1px solid gray;flex-grow: 1;}#sk-container-id-1 div.sk-label:hover label.sk-toggleable__label {background-color: #d4ebff;}#sk-container-id-1 div.sk-serial::before {content: \"\";position: absolute;border-left: 1px solid gray;box-sizing: border-box;top: 0;bottom: 0;left: 50%;z-index: 0;}#sk-container-id-1 div.sk-serial {display: flex;flex-direction: column;align-items: center;background-color: white;padding-right: 0.2em;padding-left: 0.2em;position: relative;}#sk-container-id-1 div.sk-item {position: relative;z-index: 1;}#sk-container-id-1 div.sk-parallel {display: flex;align-items: stretch;justify-content: center;background-color: white;position: relative;}#sk-container-id-1 div.sk-item::before, #sk-container-id-1 div.sk-parallel-item::before {content: \"\";position: absolute;border-left: 1px solid gray;box-sizing: border-box;top: 0;bottom: 0;left: 50%;z-index: -1;}#sk-container-id-1 div.sk-parallel-item {display: flex;flex-direction: column;z-index: 1;position: relative;background-color: white;}#sk-container-id-1 div.sk-parallel-item:first-child::after {align-self: flex-end;width: 50%;}#sk-container-id-1 div.sk-parallel-item:last-child::after {align-self: flex-start;width: 50%;}#sk-container-id-1 div.sk-parallel-item:only-child::after {width: 0;}#sk-container-id-1 div.sk-dashed-wrapped {border: 1px dashed gray;margin: 0 0.4em 0.5em 0.4em;box-sizing: border-box;padding-bottom: 0.4em;background-color: white;}#sk-container-id-1 div.sk-label label {font-family: monospace;font-weight: bold;display: inline-block;line-height: 1.2em;}#sk-container-id-1 div.sk-label-container {text-align: center;}#sk-container-id-1 div.sk-container {/* jupyter's `normalize.less` sets `[hidden] { display: none; }` but bootstrap.min.css set `[hidden] { display: none !important; }` so we also need the `!important` here to be able to override the default hidden behavior on the sphinx rendered scikit-learn.org. See: https://github.com/scikit-learn/scikit-learn/issues/21755 */display: inline-block !important;position: relative;}#sk-container-id-1 div.sk-text-repr-fallback {display: none;}</style><div id=\"sk-container-id-1\" class=\"sk-top-container\"><div class=\"sk-text-repr-fallback\"><pre>LogisticRegression()</pre><b>In a Jupyter environment, please rerun this cell to show the HTML representation or trust the notebook. <br />On GitHub, the HTML representation is unable to render, please try loading this page with nbviewer.org.</b></div><div class=\"sk-container\" hidden><div class=\"sk-item\"><div class=\"sk-estimator sk-toggleable\"><input class=\"sk-toggleable__control sk-hidden--visually\" id=\"sk-estimator-id-1\" type=\"checkbox\" checked><label for=\"sk-estimator-id-1\" class=\"sk-toggleable__label sk-toggleable__label-arrow\">LogisticRegression</label><div class=\"sk-toggleable__content\"><pre>LogisticRegression()</pre></div></div></div></div></div>"
      ],
      "text/plain": [
       "LogisticRegression()"
      ]
     },
     "execution_count": 16,
     "metadata": {},
     "output_type": "execute_result"
    }
   ],
   "source": [
    "\n",
    "Employees_attrition_model.fit(X_train, y_train)"
   ]
  },
  {
   "cell_type": "markdown",
   "id": "d6f03d44",
   "metadata": {
    "papermill": {
     "duration": 0.010295,
     "end_time": "2025-04-28T20:25:35.707925",
     "exception": false,
     "start_time": "2025-04-28T20:25:35.697630",
     "status": "completed"
    },
    "tags": []
   },
   "source": [
    "# Test data predictions"
   ]
  },
  {
   "cell_type": "code",
   "execution_count": 17,
   "id": "b9578bf5",
   "metadata": {
    "execution": {
     "iopub.execute_input": "2025-04-28T20:25:35.732455Z",
     "iopub.status.busy": "2025-04-28T20:25:35.731151Z",
     "iopub.status.idle": "2025-04-28T20:25:35.744942Z",
     "shell.execute_reply": "2025-04-28T20:25:35.742240Z"
    },
    "papermill": {
     "duration": 0.027728,
     "end_time": "2025-04-28T20:25:35.747042",
     "exception": false,
     "start_time": "2025-04-28T20:25:35.719314",
     "status": "completed"
    },
    "tags": []
   },
   "outputs": [
    {
     "data": {
      "text/plain": [
       "array([0, 1, 1, ..., 0, 0, 1])"
      ]
     },
     "execution_count": 17,
     "metadata": {},
     "output_type": "execute_result"
    }
   ],
   "source": [
    "y_pred=Employees_attrition_model.predict(X_test)\n",
    "y_pred"
   ]
  },
  {
   "cell_type": "markdown",
   "id": "0f4b078f",
   "metadata": {
    "papermill": {
     "duration": 0.010254,
     "end_time": "2025-04-28T20:25:35.774076",
     "exception": false,
     "start_time": "2025-04-28T20:25:35.763822",
     "status": "completed"
    },
    "tags": []
   },
   "source": [
    "# Accuracy score"
   ]
  },
  {
   "cell_type": "code",
   "execution_count": 18,
   "id": "dbde26aa",
   "metadata": {
    "execution": {
     "iopub.execute_input": "2025-04-28T20:25:35.788630Z",
     "iopub.status.busy": "2025-04-28T20:25:35.788170Z",
     "iopub.status.idle": "2025-04-28T20:25:35.796240Z",
     "shell.execute_reply": "2025-04-28T20:25:35.795185Z"
    },
    "papermill": {
     "duration": 0.017071,
     "end_time": "2025-04-28T20:25:35.797705",
     "exception": false,
     "start_time": "2025-04-28T20:25:35.780634",
     "status": "completed"
    },
    "tags": []
   },
   "outputs": [
    {
     "name": "stdout",
     "output_type": "stream",
     "text": [
      "Accuracy: 70.04%\n"
     ]
    }
   ],
   "source": [
    "accuracy = accuracy_score(y_test, y_pred)\n",
    "accuracy_percentage = accuracy * 100\n",
    "print(\"Accuracy: {:.2f}%\".format(accuracy_percentage))"
   ]
  },
  {
   "cell_type": "markdown",
   "id": "0e2f3cb8",
   "metadata": {
    "papermill": {
     "duration": 0.006071,
     "end_time": "2025-04-28T20:25:35.810422",
     "exception": false,
     "start_time": "2025-04-28T20:25:35.804351",
     "status": "completed"
    },
    "tags": []
   },
   "source": [
    "# Classification report"
   ]
  },
  {
   "cell_type": "code",
   "execution_count": 19,
   "id": "f9c4fa08",
   "metadata": {
    "execution": {
     "iopub.execute_input": "2025-04-28T20:25:35.824699Z",
     "iopub.status.busy": "2025-04-28T20:25:35.824050Z",
     "iopub.status.idle": "2025-04-28T20:25:35.852097Z",
     "shell.execute_reply": "2025-04-28T20:25:35.851051Z"
    },
    "papermill": {
     "duration": 0.036993,
     "end_time": "2025-04-28T20:25:35.853682",
     "exception": false,
     "start_time": "2025-04-28T20:25:35.816689",
     "status": "completed"
    },
    "tags": []
   },
   "outputs": [
    {
     "name": "stdout",
     "output_type": "stream",
     "text": [
      "              precision    recall  f1-score   support\n",
      "\n",
      "           0       0.69      0.68      0.68      5668\n",
      "           1       0.71      0.72      0.72      6252\n",
      "\n",
      "    accuracy                           0.70     11920\n",
      "   macro avg       0.70      0.70      0.70     11920\n",
      "weighted avg       0.70      0.70      0.70     11920\n",
      "\n"
     ]
    }
   ],
   "source": [
    "print(classification_report(y_test, y_pred))"
   ]
  },
  {
   "cell_type": "markdown",
   "id": "23a274c7",
   "metadata": {
    "papermill": {
     "duration": 0.006523,
     "end_time": "2025-04-28T20:25:35.867098",
     "exception": false,
     "start_time": "2025-04-28T20:25:35.860575",
     "status": "completed"
    },
    "tags": []
   },
   "source": [
    "# Confusion matrix"
   ]
  },
  {
   "cell_type": "code",
   "execution_count": 20,
   "id": "2971eca4",
   "metadata": {
    "execution": {
     "iopub.execute_input": "2025-04-28T20:25:35.881603Z",
     "iopub.status.busy": "2025-04-28T20:25:35.880888Z",
     "iopub.status.idle": "2025-04-28T20:25:35.890327Z",
     "shell.execute_reply": "2025-04-28T20:25:35.889566Z"
    },
    "papermill": {
     "duration": 0.01799,
     "end_time": "2025-04-28T20:25:35.891574",
     "exception": false,
     "start_time": "2025-04-28T20:25:35.873584",
     "status": "completed"
    },
    "tags": []
   },
   "outputs": [
    {
     "data": {
      "text/plain": [
       "array([[3857, 1811],\n",
       "       [1760, 4492]])"
      ]
     },
     "execution_count": 20,
     "metadata": {},
     "output_type": "execute_result"
    }
   ],
   "source": [
    "confusion_m =confusion_matrix(y_test, y_pred)\n",
    "confusion_m"
   ]
  },
  {
   "cell_type": "code",
   "execution_count": 21,
   "id": "698936a8",
   "metadata": {
    "execution": {
     "iopub.execute_input": "2025-04-28T20:25:35.906074Z",
     "iopub.status.busy": "2025-04-28T20:25:35.905785Z",
     "iopub.status.idle": "2025-04-28T20:25:36.150684Z",
     "shell.execute_reply": "2025-04-28T20:25:36.149782Z"
    },
    "papermill": {
     "duration": 0.254054,
     "end_time": "2025-04-28T20:25:36.152203",
     "exception": false,
     "start_time": "2025-04-28T20:25:35.898149",
     "status": "completed"
    },
    "tags": []
   },
   "outputs": [
    {
     "data": {
      "image/png": "[encoded data removed]",
      "text/plain": [
       "<Figure size 500x500 with 2 Axes>"
      ]
     },
     "metadata": {},
     "output_type": "display_data"
    }
   ],
   "source": [
    "plt.figure(figsize=(5, 5))\n",
    "sns.heatmap(confusion_m, \n",
    "            annot=True, \n",
    "            fmt='d', \n",
    "            cmap='pink',\n",
    "            xticklabels=['0(Left)', '1(Stayed)'],\n",
    "            yticklabels=['0(Left)', '1(Stayed)'])\n",
    "plt.title('Confusion Matrix')\n",
    "plt.xlabel('Predicted')\n",
    "plt.ylabel('Actual')\n",
    "plt.show()"
   ]
  }
 ],
 "metadata": {
  "kaggle": {
   "accelerator": "none",
   "dataSources": [
    {
     "datasetId": 5189533,
     "sourceId": 8664641,
     "sourceType": "datasetVersion"
    }
   ],
   "isGpuEnabled": false,
   "isInternetEnabled": true,
   "language": "python",
   "sourceType": "notebook"
  },
  "kernelspec": {
   "display_name": "Python 3",
   "language": "python",
   "name": "python3"
  },
  "language_info": {
   "codemirror_mode": {
    "name": "ipython",
    "version": 3
   },
   "file_extension": ".py",
   "mimetype": "text/x-python",
   "name": "python",
   "nbconvert_exporter": "python",
   "pygments_lexer": "ipython3",
   "version": "3.11.11"
  },
  "papermill": {
   "default_parameters": {},
   "duration": 11.231081,
   "end_time": "2025-04-28T20:25:36.879176",
   "environment_variables": {},
   "exception": null,
   "input_path": "__notebook__.ipynb",
   "output_path": "__notebook__.ipynb",
   "parameters": {},
   "start_time": "2025-04-28T20:25:25.648095",
   "version": "2.6.0"
  }
 },
 "nbformat": 4,
 "nbformat_minor": 5
}
