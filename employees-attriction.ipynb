{
 "cells": [
  {
   "cell_type": "markdown",
   "id": "8fc33f7e",
   "metadata": {
    "papermill": {
     "duration": 0.007908,
     "end_time": "2025-01-18T22:02:33.695513",
     "exception": false,
     "start_time": "2025-01-18T22:02:33.687605",
     "status": "completed"
    },
    "tags": []
   },
   "source": [
    "# Importing the libraries"
   ]
  },
  {
   "cell_type": "code",
   "execution_count": 1,
   "id": "d65a538c",
   "metadata": {
    "execution": {
     "iopub.execute_input": "2025-01-18T22:02:33.708941Z",
     "iopub.status.busy": "2025-01-18T22:02:33.708569Z",
     "iopub.status.idle": "2025-01-18T22:02:36.742640Z",
     "shell.execute_reply": "2025-01-18T22:02:36.741545Z"
    },
    "papermill": {
     "duration": 3.043045,
     "end_time": "2025-01-18T22:02:36.744700",
     "exception": false,
     "start_time": "2025-01-18T22:02:33.701655",
     "status": "completed"
    },
    "tags": []
   },
   "outputs": [],
   "source": [
    "import pandas as pd \n",
    "import numpy as np\n",
    "import seaborn as sb\n",
    "import seaborn as sns\n",
    "import matplotlib.pyplot as plt\n",
    "\n",
    "from sklearn import metrics\n",
    "from sklearn.preprocessing import StandardScaler\n",
    "from sklearn.preprocessing import LabelEncoder\n",
    "from sklearn.model_selection import train_test_split\n",
    "from sklearn.linear_model import LogisticRegression\n",
    "from sklearn.metrics import accuracy_score, classification_report\n",
    "from sklearn.metrics import confusion_matrix, ConfusionMatrixDisplay\n",
    "\n"
   ]
  },
  {
   "cell_type": "markdown",
   "id": "1e021672",
   "metadata": {
    "papermill": {
     "duration": 0.005582,
     "end_time": "2025-01-18T22:02:36.756510",
     "exception": false,
     "start_time": "2025-01-18T22:02:36.750928",
     "status": "completed"
    },
    "tags": []
   },
   "source": [
    "# The train data"
   ]
  },
  {
   "cell_type": "code",
   "execution_count": 2,
   "id": "358ee0a8",
   "metadata": {
    "execution": {
     "iopub.execute_input": "2025-01-18T22:02:36.769539Z",
     "iopub.status.busy": "2025-01-18T22:02:36.769034Z",
     "iopub.status.idle": "2025-01-18T22:02:37.231129Z",
     "shell.execute_reply": "2025-01-18T22:02:37.230099Z"
    },
    "papermill": {
     "duration": 0.470483,
     "end_time": "2025-01-18T22:02:37.232877",
     "exception": false,
     "start_time": "2025-01-18T22:02:36.762394",
     "status": "completed"
    },
    "tags": []
   },
   "outputs": [
    {
     "data": {
      "text/html": [
       "<div>\n",
       "<style scoped>\n",
       "    .dataframe tbody tr th:only-of-type {\n",
       "        vertical-align: middle;\n",
       "    }\n",
       "\n",
       "    .dataframe tbody tr th {\n",
       "        vertical-align: top;\n",
       "    }\n",
       "\n",
       "    .dataframe thead th {\n",
       "        text-align: right;\n",
       "    }\n",
       "</style>\n",
       "<table border=\"1\" class=\"dataframe\">\n",
       "  <thead>\n",
       "    <tr style=\"text-align: right;\">\n",
       "      <th></th>\n",
       "      <th>Employee ID</th>\n",
       "      <th>Age</th>\n",
       "      <th>Gender</th>\n",
       "      <th>Years at Company</th>\n",
       "      <th>Job Role</th>\n",
       "      <th>Monthly Income</th>\n",
       "      <th>Work-Life Balance</th>\n",
       "      <th>Job Satisfaction</th>\n",
       "      <th>Performance Rating</th>\n",
       "      <th>Number of Promotions</th>\n",
       "      <th>...</th>\n",
       "      <th>Number of Dependents</th>\n",
       "      <th>Job Level</th>\n",
       "      <th>Company Size</th>\n",
       "      <th>Company Tenure</th>\n",
       "      <th>Remote Work</th>\n",
       "      <th>Leadership Opportunities</th>\n",
       "      <th>Innovation Opportunities</th>\n",
       "      <th>Company Reputation</th>\n",
       "      <th>Employee Recognition</th>\n",
       "      <th>Attrition</th>\n",
       "    </tr>\n",
       "  </thead>\n",
       "  <tbody>\n",
       "    <tr>\n",
       "      <th>0</th>\n",
       "      <td>8410</td>\n",
       "      <td>31</td>\n",
       "      <td>Male</td>\n",
       "      <td>19</td>\n",
       "      <td>Education</td>\n",
       "      <td>5390</td>\n",
       "      <td>Excellent</td>\n",
       "      <td>Medium</td>\n",
       "      <td>Average</td>\n",
       "      <td>2</td>\n",
       "      <td>...</td>\n",
       "      <td>0</td>\n",
       "      <td>Mid</td>\n",
       "      <td>Medium</td>\n",
       "      <td>89</td>\n",
       "      <td>No</td>\n",
       "      <td>No</td>\n",
       "      <td>No</td>\n",
       "      <td>Excellent</td>\n",
       "      <td>Medium</td>\n",
       "      <td>Stayed</td>\n",
       "    </tr>\n",
       "    <tr>\n",
       "      <th>1</th>\n",
       "      <td>64756</td>\n",
       "      <td>59</td>\n",
       "      <td>Female</td>\n",
       "      <td>4</td>\n",
       "      <td>Media</td>\n",
       "      <td>5534</td>\n",
       "      <td>Poor</td>\n",
       "      <td>High</td>\n",
       "      <td>Low</td>\n",
       "      <td>3</td>\n",
       "      <td>...</td>\n",
       "      <td>3</td>\n",
       "      <td>Mid</td>\n",
       "      <td>Medium</td>\n",
       "      <td>21</td>\n",
       "      <td>No</td>\n",
       "      <td>No</td>\n",
       "      <td>No</td>\n",
       "      <td>Fair</td>\n",
       "      <td>Low</td>\n",
       "      <td>Stayed</td>\n",
       "    </tr>\n",
       "    <tr>\n",
       "      <th>2</th>\n",
       "      <td>30257</td>\n",
       "      <td>24</td>\n",
       "      <td>Female</td>\n",
       "      <td>10</td>\n",
       "      <td>Healthcare</td>\n",
       "      <td>8159</td>\n",
       "      <td>Good</td>\n",
       "      <td>High</td>\n",
       "      <td>Low</td>\n",
       "      <td>0</td>\n",
       "      <td>...</td>\n",
       "      <td>3</td>\n",
       "      <td>Mid</td>\n",
       "      <td>Medium</td>\n",
       "      <td>74</td>\n",
       "      <td>No</td>\n",
       "      <td>No</td>\n",
       "      <td>No</td>\n",
       "      <td>Poor</td>\n",
       "      <td>Low</td>\n",
       "      <td>Stayed</td>\n",
       "    </tr>\n",
       "    <tr>\n",
       "      <th>3</th>\n",
       "      <td>65791</td>\n",
       "      <td>36</td>\n",
       "      <td>Female</td>\n",
       "      <td>7</td>\n",
       "      <td>Education</td>\n",
       "      <td>3989</td>\n",
       "      <td>Good</td>\n",
       "      <td>High</td>\n",
       "      <td>High</td>\n",
       "      <td>1</td>\n",
       "      <td>...</td>\n",
       "      <td>2</td>\n",
       "      <td>Mid</td>\n",
       "      <td>Small</td>\n",
       "      <td>50</td>\n",
       "      <td>Yes</td>\n",
       "      <td>No</td>\n",
       "      <td>No</td>\n",
       "      <td>Good</td>\n",
       "      <td>Medium</td>\n",
       "      <td>Stayed</td>\n",
       "    </tr>\n",
       "    <tr>\n",
       "      <th>4</th>\n",
       "      <td>65026</td>\n",
       "      <td>56</td>\n",
       "      <td>Male</td>\n",
       "      <td>41</td>\n",
       "      <td>Education</td>\n",
       "      <td>4821</td>\n",
       "      <td>Fair</td>\n",
       "      <td>Very High</td>\n",
       "      <td>Average</td>\n",
       "      <td>0</td>\n",
       "      <td>...</td>\n",
       "      <td>0</td>\n",
       "      <td>Senior</td>\n",
       "      <td>Medium</td>\n",
       "      <td>68</td>\n",
       "      <td>No</td>\n",
       "      <td>No</td>\n",
       "      <td>No</td>\n",
       "      <td>Fair</td>\n",
       "      <td>Medium</td>\n",
       "      <td>Stayed</td>\n",
       "    </tr>\n",
       "    <tr>\n",
       "      <th>...</th>\n",
       "      <td>...</td>\n",
       "      <td>...</td>\n",
       "      <td>...</td>\n",
       "      <td>...</td>\n",
       "      <td>...</td>\n",
       "      <td>...</td>\n",
       "      <td>...</td>\n",
       "      <td>...</td>\n",
       "      <td>...</td>\n",
       "      <td>...</td>\n",
       "      <td>...</td>\n",
       "      <td>...</td>\n",
       "      <td>...</td>\n",
       "      <td>...</td>\n",
       "      <td>...</td>\n",
       "      <td>...</td>\n",
       "      <td>...</td>\n",
       "      <td>...</td>\n",
       "      <td>...</td>\n",
       "      <td>...</td>\n",
       "      <td>...</td>\n",
       "    </tr>\n",
       "    <tr>\n",
       "      <th>59593</th>\n",
       "      <td>37195</td>\n",
       "      <td>50</td>\n",
       "      <td>Female</td>\n",
       "      <td>12</td>\n",
       "      <td>Education</td>\n",
       "      <td>4414</td>\n",
       "      <td>Fair</td>\n",
       "      <td>High</td>\n",
       "      <td>Average</td>\n",
       "      <td>1</td>\n",
       "      <td>...</td>\n",
       "      <td>2</td>\n",
       "      <td>Senior</td>\n",
       "      <td>Small</td>\n",
       "      <td>35</td>\n",
       "      <td>No</td>\n",
       "      <td>No</td>\n",
       "      <td>Yes</td>\n",
       "      <td>Poor</td>\n",
       "      <td>Very High</td>\n",
       "      <td>Left</td>\n",
       "    </tr>\n",
       "    <tr>\n",
       "      <th>59594</th>\n",
       "      <td>6266</td>\n",
       "      <td>18</td>\n",
       "      <td>Male</td>\n",
       "      <td>4</td>\n",
       "      <td>Healthcare</td>\n",
       "      <td>8040</td>\n",
       "      <td>Fair</td>\n",
       "      <td>High</td>\n",
       "      <td>High</td>\n",
       "      <td>3</td>\n",
       "      <td>...</td>\n",
       "      <td>0</td>\n",
       "      <td>Senior</td>\n",
       "      <td>Medium</td>\n",
       "      <td>73</td>\n",
       "      <td>No</td>\n",
       "      <td>No</td>\n",
       "      <td>No</td>\n",
       "      <td>Fair</td>\n",
       "      <td>Medium</td>\n",
       "      <td>Left</td>\n",
       "    </tr>\n",
       "    <tr>\n",
       "      <th>59595</th>\n",
       "      <td>54887</td>\n",
       "      <td>22</td>\n",
       "      <td>Female</td>\n",
       "      <td>14</td>\n",
       "      <td>Technology</td>\n",
       "      <td>7944</td>\n",
       "      <td>Fair</td>\n",
       "      <td>High</td>\n",
       "      <td>High</td>\n",
       "      <td>0</td>\n",
       "      <td>...</td>\n",
       "      <td>2</td>\n",
       "      <td>Entry</td>\n",
       "      <td>Small</td>\n",
       "      <td>29</td>\n",
       "      <td>No</td>\n",
       "      <td>Yes</td>\n",
       "      <td>No</td>\n",
       "      <td>Good</td>\n",
       "      <td>Medium</td>\n",
       "      <td>Stayed</td>\n",
       "    </tr>\n",
       "    <tr>\n",
       "      <th>59596</th>\n",
       "      <td>861</td>\n",
       "      <td>23</td>\n",
       "      <td>Male</td>\n",
       "      <td>8</td>\n",
       "      <td>Education</td>\n",
       "      <td>2931</td>\n",
       "      <td>Fair</td>\n",
       "      <td>Very High</td>\n",
       "      <td>Average</td>\n",
       "      <td>0</td>\n",
       "      <td>...</td>\n",
       "      <td>0</td>\n",
       "      <td>Entry</td>\n",
       "      <td>Large</td>\n",
       "      <td>9</td>\n",
       "      <td>No</td>\n",
       "      <td>No</td>\n",
       "      <td>No</td>\n",
       "      <td>Good</td>\n",
       "      <td>Low</td>\n",
       "      <td>Left</td>\n",
       "    </tr>\n",
       "    <tr>\n",
       "      <th>59597</th>\n",
       "      <td>15796</td>\n",
       "      <td>56</td>\n",
       "      <td>Male</td>\n",
       "      <td>19</td>\n",
       "      <td>Technology</td>\n",
       "      <td>6660</td>\n",
       "      <td>Good</td>\n",
       "      <td>High</td>\n",
       "      <td>Average</td>\n",
       "      <td>0</td>\n",
       "      <td>...</td>\n",
       "      <td>3</td>\n",
       "      <td>Mid</td>\n",
       "      <td>Medium</td>\n",
       "      <td>81</td>\n",
       "      <td>No</td>\n",
       "      <td>No</td>\n",
       "      <td>No</td>\n",
       "      <td>Good</td>\n",
       "      <td>Low</td>\n",
       "      <td>Stayed</td>\n",
       "    </tr>\n",
       "  </tbody>\n",
       "</table>\n",
       "<p>59598 rows × 24 columns</p>\n",
       "</div>"
      ],
      "text/plain": [
       "       Employee ID  Age  Gender  Years at Company    Job Role  Monthly Income  \\\n",
       "0             8410   31    Male                19   Education            5390   \n",
       "1            64756   59  Female                 4       Media            5534   \n",
       "2            30257   24  Female                10  Healthcare            8159   \n",
       "3            65791   36  Female                 7   Education            3989   \n",
       "4            65026   56    Male                41   Education            4821   \n",
       "...            ...  ...     ...               ...         ...             ...   \n",
       "59593        37195   50  Female                12   Education            4414   \n",
       "59594         6266   18    Male                 4  Healthcare            8040   \n",
       "59595        54887   22  Female                14  Technology            7944   \n",
       "59596          861   23    Male                 8   Education            2931   \n",
       "59597        15796   56    Male                19  Technology            6660   \n",
       "\n",
       "      Work-Life Balance Job Satisfaction Performance Rating  \\\n",
       "0             Excellent           Medium            Average   \n",
       "1                  Poor             High                Low   \n",
       "2                  Good             High                Low   \n",
       "3                  Good             High               High   \n",
       "4                  Fair        Very High            Average   \n",
       "...                 ...              ...                ...   \n",
       "59593              Fair             High            Average   \n",
       "59594              Fair             High               High   \n",
       "59595              Fair             High               High   \n",
       "59596              Fair        Very High            Average   \n",
       "59597              Good             High            Average   \n",
       "\n",
       "       Number of Promotions  ... Number of Dependents  Job Level Company Size  \\\n",
       "0                         2  ...                    0        Mid       Medium   \n",
       "1                         3  ...                    3        Mid       Medium   \n",
       "2                         0  ...                    3        Mid       Medium   \n",
       "3                         1  ...                    2        Mid        Small   \n",
       "4                         0  ...                    0     Senior       Medium   \n",
       "...                     ...  ...                  ...        ...          ...   \n",
       "59593                     1  ...                    2     Senior        Small   \n",
       "59594                     3  ...                    0     Senior       Medium   \n",
       "59595                     0  ...                    2      Entry        Small   \n",
       "59596                     0  ...                    0      Entry        Large   \n",
       "59597                     0  ...                    3        Mid       Medium   \n",
       "\n",
       "      Company Tenure  Remote Work Leadership Opportunities  \\\n",
       "0                 89           No                       No   \n",
       "1                 21           No                       No   \n",
       "2                 74           No                       No   \n",
       "3                 50          Yes                       No   \n",
       "4                 68           No                       No   \n",
       "...              ...          ...                      ...   \n",
       "59593             35           No                       No   \n",
       "59594             73           No                       No   \n",
       "59595             29           No                      Yes   \n",
       "59596              9           No                       No   \n",
       "59597             81           No                       No   \n",
       "\n",
       "      Innovation Opportunities  Company Reputation Employee Recognition  \\\n",
       "0                           No           Excellent               Medium   \n",
       "1                           No                Fair                  Low   \n",
       "2                           No                Poor                  Low   \n",
       "3                           No                Good               Medium   \n",
       "4                           No                Fair               Medium   \n",
       "...                        ...                 ...                  ...   \n",
       "59593                      Yes                Poor            Very High   \n",
       "59594                       No                Fair               Medium   \n",
       "59595                       No                Good               Medium   \n",
       "59596                       No                Good                  Low   \n",
       "59597                       No                Good                  Low   \n",
       "\n",
       "      Attrition  \n",
       "0        Stayed  \n",
       "1        Stayed  \n",
       "2        Stayed  \n",
       "3        Stayed  \n",
       "4        Stayed  \n",
       "...         ...  \n",
       "59593      Left  \n",
       "59594      Left  \n",
       "59595    Stayed  \n",
       "59596      Left  \n",
       "59597    Stayed  \n",
       "\n",
       "[59598 rows x 24 columns]"
      ]
     },
     "execution_count": 2,
     "metadata": {},
     "output_type": "execute_result"
    }
   ],
   "source": [
    "Employees_train_data=pd.read_csv('/kaggle/input/employee-attrition-dataset/train.csv')\n",
    "Employees_train_data"
   ]
  },
  {
   "cell_type": "markdown",
   "id": "50777876",
   "metadata": {
    "papermill": {
     "duration": 0.006042,
     "end_time": "2025-01-18T22:02:37.245621",
     "exception": false,
     "start_time": "2025-01-18T22:02:37.239579",
     "status": "completed"
    },
    "tags": []
   },
   "source": [
    "# Checking for missing values"
   ]
  },
  {
   "cell_type": "code",
   "execution_count": 3,
   "id": "a37eb547",
   "metadata": {
    "execution": {
     "iopub.execute_input": "2025-01-18T22:02:37.259415Z",
     "iopub.status.busy": "2025-01-18T22:02:37.259051Z",
     "iopub.status.idle": "2025-01-18T22:02:37.321315Z",
     "shell.execute_reply": "2025-01-18T22:02:37.320330Z"
    },
    "papermill": {
     "duration": 0.071033,
     "end_time": "2025-01-18T22:02:37.322924",
     "exception": false,
     "start_time": "2025-01-18T22:02:37.251891",
     "status": "completed"
    },
    "tags": []
   },
   "outputs": [
    {
     "data": {
      "text/plain": [
       "Employee ID                 0\n",
       "Age                         0\n",
       "Gender                      0\n",
       "Years at Company            0\n",
       "Job Role                    0\n",
       "Monthly Income              0\n",
       "Work-Life Balance           0\n",
       "Job Satisfaction            0\n",
       "Performance Rating          0\n",
       "Number of Promotions        0\n",
       "Overtime                    0\n",
       "Distance from Home          0\n",
       "Education Level             0\n",
       "Marital Status              0\n",
       "Number of Dependents        0\n",
       "Job Level                   0\n",
       "Company Size                0\n",
       "Company Tenure              0\n",
       "Remote Work                 0\n",
       "Leadership Opportunities    0\n",
       "Innovation Opportunities    0\n",
       "Company Reputation          0\n",
       "Employee Recognition        0\n",
       "Attrition                   0\n",
       "dtype: int64"
      ]
     },
     "execution_count": 3,
     "metadata": {},
     "output_type": "execute_result"
    }
   ],
   "source": [
    "Employees_train_data.isnull().sum()"
   ]
  },
  {
   "cell_type": "markdown",
   "id": "bd6f0ba3",
   "metadata": {
    "papermill": {
     "duration": 0.006648,
     "end_time": "2025-01-18T22:02:37.336250",
     "exception": false,
     "start_time": "2025-01-18T22:02:37.329602",
     "status": "completed"
    },
    "tags": []
   },
   "source": [
    "# Describing the data"
   ]
  },
  {
   "cell_type": "code",
   "execution_count": 4,
   "id": "01e64de1",
   "metadata": {
    "execution": {
     "iopub.execute_input": "2025-01-18T22:02:37.350609Z",
     "iopub.status.busy": "2025-01-18T22:02:37.350270Z",
     "iopub.status.idle": "2025-01-18T22:02:37.397137Z",
     "shell.execute_reply": "2025-01-18T22:02:37.396076Z"
    },
    "papermill": {
     "duration": 0.056243,
     "end_time": "2025-01-18T22:02:37.399128",
     "exception": false,
     "start_time": "2025-01-18T22:02:37.342885",
     "status": "completed"
    },
    "tags": []
   },
   "outputs": [
    {
     "data": {
      "text/html": [
       "<div>\n",
       "<style scoped>\n",
       "    .dataframe tbody tr th:only-of-type {\n",
       "        vertical-align: middle;\n",
       "    }\n",
       "\n",
       "    .dataframe tbody tr th {\n",
       "        vertical-align: top;\n",
       "    }\n",
       "\n",
       "    .dataframe thead th {\n",
       "        text-align: right;\n",
       "    }\n",
       "</style>\n",
       "<table border=\"1\" class=\"dataframe\">\n",
       "  <thead>\n",
       "    <tr style=\"text-align: right;\">\n",
       "      <th></th>\n",
       "      <th>Employee ID</th>\n",
       "      <th>Age</th>\n",
       "      <th>Years at Company</th>\n",
       "      <th>Monthly Income</th>\n",
       "      <th>Number of Promotions</th>\n",
       "      <th>Distance from Home</th>\n",
       "      <th>Number of Dependents</th>\n",
       "      <th>Company Tenure</th>\n",
       "    </tr>\n",
       "  </thead>\n",
       "  <tbody>\n",
       "    <tr>\n",
       "      <th>count</th>\n",
       "      <td>59598.000000</td>\n",
       "      <td>59598.000000</td>\n",
       "      <td>59598.000000</td>\n",
       "      <td>59598.000000</td>\n",
       "      <td>59598.000000</td>\n",
       "      <td>59598.000000</td>\n",
       "      <td>59598.000000</td>\n",
       "      <td>59598.000000</td>\n",
       "    </tr>\n",
       "    <tr>\n",
       "      <th>mean</th>\n",
       "      <td>37227.118729</td>\n",
       "      <td>38.565875</td>\n",
       "      <td>15.753901</td>\n",
       "      <td>7302.397983</td>\n",
       "      <td>0.832578</td>\n",
       "      <td>50.007651</td>\n",
       "      <td>1.648075</td>\n",
       "      <td>55.758415</td>\n",
       "    </tr>\n",
       "    <tr>\n",
       "      <th>std</th>\n",
       "      <td>21519.150028</td>\n",
       "      <td>12.079673</td>\n",
       "      <td>11.245981</td>\n",
       "      <td>2151.457423</td>\n",
       "      <td>0.994991</td>\n",
       "      <td>28.466459</td>\n",
       "      <td>1.555689</td>\n",
       "      <td>25.411090</td>\n",
       "    </tr>\n",
       "    <tr>\n",
       "      <th>min</th>\n",
       "      <td>1.000000</td>\n",
       "      <td>18.000000</td>\n",
       "      <td>1.000000</td>\n",
       "      <td>1316.000000</td>\n",
       "      <td>0.000000</td>\n",
       "      <td>1.000000</td>\n",
       "      <td>0.000000</td>\n",
       "      <td>2.000000</td>\n",
       "    </tr>\n",
       "    <tr>\n",
       "      <th>25%</th>\n",
       "      <td>18580.250000</td>\n",
       "      <td>28.000000</td>\n",
       "      <td>7.000000</td>\n",
       "      <td>5658.000000</td>\n",
       "      <td>0.000000</td>\n",
       "      <td>25.000000</td>\n",
       "      <td>0.000000</td>\n",
       "      <td>36.000000</td>\n",
       "    </tr>\n",
       "    <tr>\n",
       "      <th>50%</th>\n",
       "      <td>37209.500000</td>\n",
       "      <td>39.000000</td>\n",
       "      <td>13.000000</td>\n",
       "      <td>7354.000000</td>\n",
       "      <td>1.000000</td>\n",
       "      <td>50.000000</td>\n",
       "      <td>1.000000</td>\n",
       "      <td>56.000000</td>\n",
       "    </tr>\n",
       "    <tr>\n",
       "      <th>75%</th>\n",
       "      <td>55876.750000</td>\n",
       "      <td>49.000000</td>\n",
       "      <td>23.000000</td>\n",
       "      <td>8880.000000</td>\n",
       "      <td>2.000000</td>\n",
       "      <td>75.000000</td>\n",
       "      <td>3.000000</td>\n",
       "      <td>76.000000</td>\n",
       "    </tr>\n",
       "    <tr>\n",
       "      <th>max</th>\n",
       "      <td>74498.000000</td>\n",
       "      <td>59.000000</td>\n",
       "      <td>51.000000</td>\n",
       "      <td>16149.000000</td>\n",
       "      <td>4.000000</td>\n",
       "      <td>99.000000</td>\n",
       "      <td>6.000000</td>\n",
       "      <td>128.000000</td>\n",
       "    </tr>\n",
       "  </tbody>\n",
       "</table>\n",
       "</div>"
      ],
      "text/plain": [
       "        Employee ID           Age  Years at Company  Monthly Income  \\\n",
       "count  59598.000000  59598.000000      59598.000000    59598.000000   \n",
       "mean   37227.118729     38.565875         15.753901     7302.397983   \n",
       "std    21519.150028     12.079673         11.245981     2151.457423   \n",
       "min        1.000000     18.000000          1.000000     1316.000000   \n",
       "25%    18580.250000     28.000000          7.000000     5658.000000   \n",
       "50%    37209.500000     39.000000         13.000000     7354.000000   \n",
       "75%    55876.750000     49.000000         23.000000     8880.000000   \n",
       "max    74498.000000     59.000000         51.000000    16149.000000   \n",
       "\n",
       "       Number of Promotions  Distance from Home  Number of Dependents  \\\n",
       "count          59598.000000        59598.000000          59598.000000   \n",
       "mean               0.832578           50.007651              1.648075   \n",
       "std                0.994991           28.466459              1.555689   \n",
       "min                0.000000            1.000000              0.000000   \n",
       "25%                0.000000           25.000000              0.000000   \n",
       "50%                1.000000           50.000000              1.000000   \n",
       "75%                2.000000           75.000000              3.000000   \n",
       "max                4.000000           99.000000              6.000000   \n",
       "\n",
       "       Company Tenure  \n",
       "count    59598.000000  \n",
       "mean        55.758415  \n",
       "std         25.411090  \n",
       "min          2.000000  \n",
       "25%         36.000000  \n",
       "50%         56.000000  \n",
       "75%         76.000000  \n",
       "max        128.000000  "
      ]
     },
     "execution_count": 4,
     "metadata": {},
     "output_type": "execute_result"
    }
   ],
   "source": [
    "Employees_train_data.describe()"
   ]
  },
  {
   "cell_type": "markdown",
   "id": "7261521c",
   "metadata": {
    "papermill": {
     "duration": 0.006504,
     "end_time": "2025-01-18T22:02:37.412484",
     "exception": false,
     "start_time": "2025-01-18T22:02:37.405980",
     "status": "completed"
    },
    "tags": []
   },
   "source": [
    "# Unique values"
   ]
  },
  {
   "cell_type": "code",
   "execution_count": 5,
   "id": "a768f6b3",
   "metadata": {
    "execution": {
     "iopub.execute_input": "2025-01-18T22:02:37.426969Z",
     "iopub.status.busy": "2025-01-18T22:02:37.426636Z",
     "iopub.status.idle": "2025-01-18T22:02:37.573843Z",
     "shell.execute_reply": "2025-01-18T22:02:37.572455Z"
    },
    "papermill": {
     "duration": 0.156645,
     "end_time": "2025-01-18T22:02:37.575731",
     "exception": false,
     "start_time": "2025-01-18T22:02:37.419086",
     "status": "completed"
    },
    "tags": []
   },
   "outputs": [
    {
     "name": "stdout",
     "output_type": "stream",
     "text": [
      "Gender : ['Male' 'Female']\n",
      "Gender\n",
      "Male      32739\n",
      "Female    26859\n",
      "Name: count, dtype: int64\n",
      "Job Role : ['Education' 'Media' 'Healthcare' 'Technology' 'Finance']\n",
      "Job Role\n",
      "Technology    15507\n",
      "Healthcare    13642\n",
      "Education     12490\n",
      "Media          9574\n",
      "Finance        8385\n",
      "Name: count, dtype: int64\n",
      "Work-Life Balance : ['Excellent' 'Poor' 'Good' 'Fair']\n",
      "Work-Life Balance\n",
      "Good         22528\n",
      "Fair         18046\n",
      "Excellent    10719\n",
      "Poor          8305\n",
      "Name: count, dtype: int64\n",
      "Job Satisfaction : ['Medium' 'High' 'Very High' 'Low']\n",
      "Job Satisfaction\n",
      "High         29779\n",
      "Very High    12111\n",
      "Medium       11817\n",
      "Low           5891\n",
      "Name: count, dtype: int64\n",
      "Performance Rating : ['Average' 'Low' 'High' 'Below Average']\n",
      "Performance Rating\n",
      "Average          35810\n",
      "High             11888\n",
      "Below Average     8950\n",
      "Low               2950\n",
      "Name: count, dtype: int64\n",
      "Overtime : ['No' 'Yes']\n",
      "Overtime\n",
      "No     40148\n",
      "Yes    19450\n",
      "Name: count, dtype: int64\n",
      "Education Level : ['Associate Degree' 'Master’s Degree' 'Bachelor’s Degree' 'High School'\n",
      " 'PhD']\n",
      "Education Level\n",
      "Bachelor’s Degree    17826\n",
      "Associate Degree     14915\n",
      "Master’s Degree      12020\n",
      "High School          11748\n",
      "PhD                   3089\n",
      "Name: count, dtype: int64\n",
      "Marital Status : ['Married' 'Divorced' 'Single']\n",
      "Marital Status\n",
      "Married     29908\n",
      "Single      20835\n",
      "Divorced     8855\n",
      "Name: count, dtype: int64\n",
      "Job Level : ['Mid' 'Senior' 'Entry']\n",
      "Job Level\n",
      "Entry     23867\n",
      "Mid       23753\n",
      "Senior    11978\n",
      "Name: count, dtype: int64\n",
      "Company Size : ['Medium' 'Small' 'Large']\n",
      "Company Size\n",
      "Medium    29745\n",
      "Small     17935\n",
      "Large     11918\n",
      "Name: count, dtype: int64\n",
      "Remote Work : ['No' 'Yes']\n",
      "Remote Work\n",
      "No     48239\n",
      "Yes    11359\n",
      "Name: count, dtype: int64\n",
      "Leadership Opportunities : ['No' 'Yes']\n",
      "Leadership Opportunities\n",
      "No     56680\n",
      "Yes     2918\n",
      "Name: count, dtype: int64\n",
      "Innovation Opportunities : ['No' 'Yes']\n",
      "Innovation Opportunities\n",
      "No     49895\n",
      "Yes     9703\n",
      "Name: count, dtype: int64\n",
      "Company Reputation : ['Excellent' 'Fair' 'Poor' 'Good']\n",
      "Company Reputation\n",
      "Good         29766\n",
      "Poor         12034\n",
      "Fair         11817\n",
      "Excellent     5981\n",
      "Name: count, dtype: int64\n",
      "Employee Recognition : ['Medium' 'Low' 'High' 'Very High']\n",
      "Employee Recognition\n",
      "Low          23758\n",
      "Medium       18033\n",
      "High         14844\n",
      "Very High     2963\n",
      "Name: count, dtype: int64\n",
      "Attrition : ['Stayed' 'Left']\n",
      "Attrition\n",
      "Stayed    31260\n",
      "Left      28338\n",
      "Name: count, dtype: int64\n"
     ]
    }
   ],
   "source": [
    "for column in Employees_train_data.columns:\n",
    "    if Employees_train_data[column].dtype == object:\n",
    "        print(str(column)+ ' : '+ str(Employees_train_data[column].unique()))\n",
    "        print(Employees_train_data[column].value_counts())"
   ]
  },
  {
   "cell_type": "markdown",
   "id": "298a004f",
   "metadata": {
    "papermill": {
     "duration": 0.006762,
     "end_time": "2025-01-18T22:02:37.589918",
     "exception": false,
     "start_time": "2025-01-18T22:02:37.583156",
     "status": "completed"
    },
    "tags": []
   },
   "source": [
    "# Columns in the dataset"
   ]
  },
  {
   "cell_type": "code",
   "execution_count": 6,
   "id": "a16a53a0",
   "metadata": {
    "execution": {
     "iopub.execute_input": "2025-01-18T22:02:37.605102Z",
     "iopub.status.busy": "2025-01-18T22:02:37.604728Z",
     "iopub.status.idle": "2025-01-18T22:02:37.610651Z",
     "shell.execute_reply": "2025-01-18T22:02:37.609659Z"
    },
    "papermill": {
     "duration": 0.015331,
     "end_time": "2025-01-18T22:02:37.612111",
     "exception": false,
     "start_time": "2025-01-18T22:02:37.596780",
     "status": "completed"
    },
    "tags": []
   },
   "outputs": [
    {
     "data": {
      "text/plain": [
       "Index(['Employee ID', 'Age', 'Gender', 'Years at Company', 'Job Role',\n",
       "       'Monthly Income', 'Work-Life Balance', 'Job Satisfaction',\n",
       "       'Performance Rating', 'Number of Promotions', 'Overtime',\n",
       "       'Distance from Home', 'Education Level', 'Marital Status',\n",
       "       'Number of Dependents', 'Job Level', 'Company Size', 'Company Tenure',\n",
       "       'Remote Work', 'Leadership Opportunities', 'Innovation Opportunities',\n",
       "       'Company Reputation', 'Employee Recognition', 'Attrition'],\n",
       "      dtype='object')"
      ]
     },
     "execution_count": 6,
     "metadata": {},
     "output_type": "execute_result"
    }
   ],
   "source": [
    "Employees_train_data.columns"
   ]
  },
  {
   "cell_type": "markdown",
   "id": "c2ddb744",
   "metadata": {
    "papermill": {
     "duration": 0.0066,
     "end_time": "2025-01-18T22:02:37.625955",
     "exception": false,
     "start_time": "2025-01-18T22:02:37.619355",
     "status": "completed"
    },
    "tags": []
   },
   "source": [
    "# Label encoding"
   ]
  },
  {
   "cell_type": "code",
   "execution_count": 7,
   "id": "31c22533",
   "metadata": {
    "execution": {
     "iopub.execute_input": "2025-01-18T22:02:37.641139Z",
     "iopub.status.busy": "2025-01-18T22:02:37.640754Z",
     "iopub.status.idle": "2025-01-18T22:02:37.881109Z",
     "shell.execute_reply": "2025-01-18T22:02:37.879991Z"
    },
    "papermill": {
     "duration": 0.25018,
     "end_time": "2025-01-18T22:02:37.883092",
     "exception": false,
     "start_time": "2025-01-18T22:02:37.632912",
     "status": "completed"
    },
    "tags": []
   },
   "outputs": [],
   "source": [
    "columns=['Gender', 'Monthly Income', 'Job Role', 'Work-Life Balance', 'Job Satisfaction', 'Performance Rating', 'Overtime', 'Education Level', 'Marital Status', 'Job Level', 'Company Size',\n",
    "       'Remote Work', 'Leadership Opportunities', 'Innovation Opportunities', 'Company Reputation', 'Employee Recognition', 'Attrition']\n",
    "le =LabelEncoder()\n",
    "Employees_train_data[columns]=Employees_train_data[columns].apply(le.fit_transform)"
   ]
  },
  {
   "cell_type": "code",
   "execution_count": 8,
   "id": "ff4a7635",
   "metadata": {
    "execution": {
     "iopub.execute_input": "2025-01-18T22:02:37.899197Z",
     "iopub.status.busy": "2025-01-18T22:02:37.898832Z",
     "iopub.status.idle": "2025-01-18T22:02:37.905479Z",
     "shell.execute_reply": "2025-01-18T22:02:37.904592Z"
    },
    "papermill": {
     "duration": 0.016777,
     "end_time": "2025-01-18T22:02:37.907133",
     "exception": false,
     "start_time": "2025-01-18T22:02:37.890356",
     "status": "completed"
    },
    "tags": []
   },
   "outputs": [
    {
     "data": {
      "text/plain": [
       "59593    0\n",
       "59594    0\n",
       "59595    1\n",
       "59596    0\n",
       "59597    1\n",
       "Name: Attrition, dtype: int64"
      ]
     },
     "execution_count": 8,
     "metadata": {},
     "output_type": "execute_result"
    }
   ],
   "source": [
    "#Dropping target\n",
    "y=Employees_train_data.Attrition\n",
    "y.tail()"
   ]
  },
  {
   "cell_type": "markdown",
   "id": "59890c33",
   "metadata": {
    "papermill": {
     "duration": 0.00684,
     "end_time": "2025-01-18T22:02:37.921427",
     "exception": false,
     "start_time": "2025-01-18T22:02:37.914587",
     "status": "completed"
    },
    "tags": []
   },
   "source": [
    "# Feature selection"
   ]
  },
  {
   "cell_type": "code",
   "execution_count": 9,
   "id": "4b9418ad",
   "metadata": {
    "execution": {
     "iopub.execute_input": "2025-01-18T22:02:37.937086Z",
     "iopub.status.busy": "2025-01-18T22:02:37.936727Z",
     "iopub.status.idle": "2025-01-18T22:02:37.960331Z",
     "shell.execute_reply": "2025-01-18T22:02:37.959370Z"
    },
    "papermill": {
     "duration": 0.03354,
     "end_time": "2025-01-18T22:02:37.962165",
     "exception": false,
     "start_time": "2025-01-18T22:02:37.928625",
     "status": "completed"
    },
    "tags": []
   },
   "outputs": [
    {
     "data": {
      "text/html": [
       "<div>\n",
       "<style scoped>\n",
       "    .dataframe tbody tr th:only-of-type {\n",
       "        vertical-align: middle;\n",
       "    }\n",
       "\n",
       "    .dataframe tbody tr th {\n",
       "        vertical-align: top;\n",
       "    }\n",
       "\n",
       "    .dataframe thead th {\n",
       "        text-align: right;\n",
       "    }\n",
       "</style>\n",
       "<table border=\"1\" class=\"dataframe\">\n",
       "  <thead>\n",
       "    <tr style=\"text-align: right;\">\n",
       "      <th></th>\n",
       "      <th>Gender</th>\n",
       "      <th>Monthly Income</th>\n",
       "      <th>Job Role</th>\n",
       "      <th>Work-Life Balance</th>\n",
       "      <th>Job Satisfaction</th>\n",
       "      <th>Performance Rating</th>\n",
       "      <th>Overtime</th>\n",
       "      <th>Education Level</th>\n",
       "      <th>Marital Status</th>\n",
       "      <th>Job Level</th>\n",
       "      <th>Company Size</th>\n",
       "      <th>Remote Work</th>\n",
       "      <th>Leadership Opportunities</th>\n",
       "      <th>Innovation Opportunities</th>\n",
       "      <th>Company Reputation</th>\n",
       "      <th>Employee Recognition</th>\n",
       "    </tr>\n",
       "  </thead>\n",
       "  <tbody>\n",
       "    <tr>\n",
       "      <th>0</th>\n",
       "      <td>1</td>\n",
       "      <td>2611</td>\n",
       "      <td>0</td>\n",
       "      <td>0</td>\n",
       "      <td>2</td>\n",
       "      <td>0</td>\n",
       "      <td>0</td>\n",
       "      <td>0</td>\n",
       "      <td>1</td>\n",
       "      <td>1</td>\n",
       "      <td>1</td>\n",
       "      <td>0</td>\n",
       "      <td>0</td>\n",
       "      <td>0</td>\n",
       "      <td>0</td>\n",
       "      <td>2</td>\n",
       "    </tr>\n",
       "    <tr>\n",
       "      <th>1</th>\n",
       "      <td>0</td>\n",
       "      <td>2755</td>\n",
       "      <td>3</td>\n",
       "      <td>3</td>\n",
       "      <td>0</td>\n",
       "      <td>3</td>\n",
       "      <td>0</td>\n",
       "      <td>3</td>\n",
       "      <td>0</td>\n",
       "      <td>1</td>\n",
       "      <td>1</td>\n",
       "      <td>0</td>\n",
       "      <td>0</td>\n",
       "      <td>0</td>\n",
       "      <td>1</td>\n",
       "      <td>1</td>\n",
       "    </tr>\n",
       "    <tr>\n",
       "      <th>2</th>\n",
       "      <td>0</td>\n",
       "      <td>5380</td>\n",
       "      <td>2</td>\n",
       "      <td>2</td>\n",
       "      <td>0</td>\n",
       "      <td>3</td>\n",
       "      <td>0</td>\n",
       "      <td>1</td>\n",
       "      <td>1</td>\n",
       "      <td>1</td>\n",
       "      <td>1</td>\n",
       "      <td>0</td>\n",
       "      <td>0</td>\n",
       "      <td>0</td>\n",
       "      <td>3</td>\n",
       "      <td>1</td>\n",
       "    </tr>\n",
       "    <tr>\n",
       "      <th>3</th>\n",
       "      <td>0</td>\n",
       "      <td>1212</td>\n",
       "      <td>0</td>\n",
       "      <td>2</td>\n",
       "      <td>0</td>\n",
       "      <td>2</td>\n",
       "      <td>0</td>\n",
       "      <td>2</td>\n",
       "      <td>2</td>\n",
       "      <td>1</td>\n",
       "      <td>2</td>\n",
       "      <td>1</td>\n",
       "      <td>0</td>\n",
       "      <td>0</td>\n",
       "      <td>2</td>\n",
       "      <td>2</td>\n",
       "    </tr>\n",
       "    <tr>\n",
       "      <th>4</th>\n",
       "      <td>1</td>\n",
       "      <td>2042</td>\n",
       "      <td>0</td>\n",
       "      <td>1</td>\n",
       "      <td>3</td>\n",
       "      <td>0</td>\n",
       "      <td>1</td>\n",
       "      <td>2</td>\n",
       "      <td>0</td>\n",
       "      <td>2</td>\n",
       "      <td>1</td>\n",
       "      <td>0</td>\n",
       "      <td>0</td>\n",
       "      <td>0</td>\n",
       "      <td>1</td>\n",
       "      <td>2</td>\n",
       "    </tr>\n",
       "  </tbody>\n",
       "</table>\n",
       "</div>"
      ],
      "text/plain": [
       "   Gender  Monthly Income  Job Role  Work-Life Balance  Job Satisfaction  \\\n",
       "0       1            2611         0                  0                 2   \n",
       "1       0            2755         3                  3                 0   \n",
       "2       0            5380         2                  2                 0   \n",
       "3       0            1212         0                  2                 0   \n",
       "4       1            2042         0                  1                 3   \n",
       "\n",
       "   Performance Rating  Overtime  Education Level  Marital Status  Job Level  \\\n",
       "0                   0         0                0               1          1   \n",
       "1                   3         0                3               0          1   \n",
       "2                   3         0                1               1          1   \n",
       "3                   2         0                2               2          1   \n",
       "4                   0         1                2               0          2   \n",
       "\n",
       "   Company Size  Remote Work  Leadership Opportunities  \\\n",
       "0             1            0                         0   \n",
       "1             1            0                         0   \n",
       "2             1            0                         0   \n",
       "3             2            1                         0   \n",
       "4             1            0                         0   \n",
       "\n",
       "   Innovation Opportunities  Company Reputation  Employee Recognition  \n",
       "0                         0                   0                     2  \n",
       "1                         0                   1                     1  \n",
       "2                         0                   3                     1  \n",
       "3                         0                   2                     2  \n",
       "4                         0                   1                     2  "
      ]
     },
     "execution_count": 9,
     "metadata": {},
     "output_type": "execute_result"
    }
   ],
   "source": [
    "columns=['Gender', 'Monthly Income', 'Job Role', 'Work-Life Balance', 'Job Satisfaction', 'Performance Rating', 'Overtime', 'Education Level', 'Marital Status', 'Job Level', 'Company Size',\n",
    "       'Remote Work', 'Leadership Opportunities', 'Innovation Opportunities', 'Company Reputation', 'Employee Recognition']\n",
    "X=Employees_train_data[columns]\n",
    "X.head()"
   ]
  },
  {
   "cell_type": "markdown",
   "id": "4c4c9d6f",
   "metadata": {
    "papermill": {
     "duration": 0.007253,
     "end_time": "2025-01-18T22:02:37.976946",
     "exception": false,
     "start_time": "2025-01-18T22:02:37.969693",
     "status": "completed"
    },
    "tags": []
   },
   "source": [
    "# Spliting the data "
   ]
  },
  {
   "cell_type": "code",
   "execution_count": 10,
   "id": "270fa67e",
   "metadata": {
    "execution": {
     "iopub.execute_input": "2025-01-18T22:02:37.992992Z",
     "iopub.status.busy": "2025-01-18T22:02:37.992589Z",
     "iopub.status.idle": "2025-01-18T22:02:38.038646Z",
     "shell.execute_reply": "2025-01-18T22:02:38.037752Z"
    },
    "papermill": {
     "duration": 0.056097,
     "end_time": "2025-01-18T22:02:38.040444",
     "exception": false,
     "start_time": "2025-01-18T22:02:37.984347",
     "status": "completed"
    },
    "tags": []
   },
   "outputs": [],
   "source": [
    "X_train, X_test ,y_train, y_test=train_test_split(X,y,test_size = 0.2, stratify=y, random_state=2)"
   ]
  },
  {
   "cell_type": "code",
   "execution_count": 11,
   "id": "70d9951b",
   "metadata": {
    "execution": {
     "iopub.execute_input": "2025-01-18T22:02:38.056729Z",
     "iopub.status.busy": "2025-01-18T22:02:38.056400Z",
     "iopub.status.idle": "2025-01-18T22:02:38.115762Z",
     "shell.execute_reply": "2025-01-18T22:02:38.114843Z"
    },
    "papermill": {
     "duration": 0.069544,
     "end_time": "2025-01-18T22:02:38.117674",
     "exception": false,
     "start_time": "2025-01-18T22:02:38.048130",
     "status": "completed"
    },
    "tags": []
   },
   "outputs": [],
   "source": [
    "sc = StandardScaler()\n",
    "X_train = sc.fit_transform(X_train)\n",
    "X_test = sc.transform(X_test)"
   ]
  },
  {
   "cell_type": "code",
   "execution_count": 12,
   "id": "4b23b04a",
   "metadata": {
    "execution": {
     "iopub.execute_input": "2025-01-18T22:02:38.134140Z",
     "iopub.status.busy": "2025-01-18T22:02:38.133739Z",
     "iopub.status.idle": "2025-01-18T22:02:38.139264Z",
     "shell.execute_reply": "2025-01-18T22:02:38.138243Z"
    },
    "papermill": {
     "duration": 0.015432,
     "end_time": "2025-01-18T22:02:38.140883",
     "exception": false,
     "start_time": "2025-01-18T22:02:38.125451",
     "status": "completed"
    },
    "tags": []
   },
   "outputs": [
    {
     "name": "stdout",
     "output_type": "stream",
     "text": [
      "(59598, 16) (47678, 16) (11920, 16)\n"
     ]
    }
   ],
   "source": [
    "print(X.shape, X_train.shape, X_test.shape)"
   ]
  },
  {
   "cell_type": "markdown",
   "id": "3d33e14f",
   "metadata": {
    "papermill": {
     "duration": 0.0071,
     "end_time": "2025-01-18T22:02:38.155662",
     "exception": false,
     "start_time": "2025-01-18T22:02:38.148562",
     "status": "completed"
    },
    "tags": []
   },
   "source": [
    "# Creating the model"
   ]
  },
  {
   "cell_type": "code",
   "execution_count": 13,
   "id": "60032667",
   "metadata": {
    "execution": {
     "iopub.execute_input": "2025-01-18T22:02:38.172764Z",
     "iopub.status.busy": "2025-01-18T22:02:38.172353Z",
     "iopub.status.idle": "2025-01-18T22:02:38.176853Z",
     "shell.execute_reply": "2025-01-18T22:02:38.175589Z"
    },
    "papermill": {
     "duration": 0.014987,
     "end_time": "2025-01-18T22:02:38.178951",
     "exception": false,
     "start_time": "2025-01-18T22:02:38.163964",
     "status": "completed"
    },
    "tags": []
   },
   "outputs": [],
   "source": [
    "Employees_attrition_model=LogisticRegression()"
   ]
  },
  {
   "cell_type": "markdown",
   "id": "3a048e21",
   "metadata": {
    "papermill": {
     "duration": 0.007479,
     "end_time": "2025-01-18T22:02:38.194118",
     "exception": false,
     "start_time": "2025-01-18T22:02:38.186639",
     "status": "completed"
    },
    "tags": []
   },
   "source": [
    "# Fiting the model"
   ]
  },
  {
   "cell_type": "code",
   "execution_count": 14,
   "id": "9566920e",
   "metadata": {
    "execution": {
     "iopub.execute_input": "2025-01-18T22:02:38.210827Z",
     "iopub.status.busy": "2025-01-18T22:02:38.210373Z",
     "iopub.status.idle": "2025-01-18T22:02:38.269770Z",
     "shell.execute_reply": "2025-01-18T22:02:38.268751Z"
    },
    "papermill": {
     "duration": 0.069515,
     "end_time": "2025-01-18T22:02:38.271400",
     "exception": false,
     "start_time": "2025-01-18T22:02:38.201885",
     "status": "completed"
    },
    "tags": []
   },
   "outputs": [
    {
     "data": {
      "text/html": [
       "<style>#sk-container-id-1 {color: black;background-color: white;}#sk-container-id-1 pre{padding: 0;}#sk-container-id-1 div.sk-toggleable {background-color: white;}#sk-container-id-1 label.sk-toggleable__label {cursor: pointer;display: block;width: 100%;margin-bottom: 0;padding: 0.3em;box-sizing: border-box;text-align: center;}#sk-container-id-1 label.sk-toggleable__label-arrow:before {content: \"▸\";float: left;margin-right: 0.25em;color: #696969;}#sk-container-id-1 label.sk-toggleable__label-arrow:hover:before {color: black;}#sk-container-id-1 div.sk-estimator:hover label.sk-toggleable__label-arrow:before {color: black;}#sk-container-id-1 div.sk-toggleable__content {max-height: 0;max-width: 0;overflow: hidden;text-align: left;background-color: #f0f8ff;}#sk-container-id-1 div.sk-toggleable__content pre {margin: 0.2em;color: black;border-radius: 0.25em;background-color: #f0f8ff;}#sk-container-id-1 input.sk-toggleable__control:checked~div.sk-toggleable__content {max-height: 200px;max-width: 100%;overflow: auto;}#sk-container-id-1 input.sk-toggleable__control:checked~label.sk-toggleable__label-arrow:before {content: \"▾\";}#sk-container-id-1 div.sk-estimator input.sk-toggleable__control:checked~label.sk-toggleable__label {background-color: #d4ebff;}#sk-container-id-1 div.sk-label input.sk-toggleable__control:checked~label.sk-toggleable__label {background-color: #d4ebff;}#sk-container-id-1 input.sk-hidden--visually {border: 0;clip: rect(1px 1px 1px 1px);clip: rect(1px, 1px, 1px, 1px);height: 1px;margin: -1px;overflow: hidden;padding: 0;position: absolute;width: 1px;}#sk-container-id-1 div.sk-estimator {font-family: monospace;background-color: #f0f8ff;border: 1px dotted black;border-radius: 0.25em;box-sizing: border-box;margin-bottom: 0.5em;}#sk-container-id-1 div.sk-estimator:hover {background-color: #d4ebff;}#sk-container-id-1 div.sk-parallel-item::after {content: \"\";width: 100%;border-bottom: 1px solid gray;flex-grow: 1;}#sk-container-id-1 div.sk-label:hover label.sk-toggleable__label {background-color: #d4ebff;}#sk-container-id-1 div.sk-serial::before {content: \"\";position: absolute;border-left: 1px solid gray;box-sizing: border-box;top: 0;bottom: 0;left: 50%;z-index: 0;}#sk-container-id-1 div.sk-serial {display: flex;flex-direction: column;align-items: center;background-color: white;padding-right: 0.2em;padding-left: 0.2em;position: relative;}#sk-container-id-1 div.sk-item {position: relative;z-index: 1;}#sk-container-id-1 div.sk-parallel {display: flex;align-items: stretch;justify-content: center;background-color: white;position: relative;}#sk-container-id-1 div.sk-item::before, #sk-container-id-1 div.sk-parallel-item::before {content: \"\";position: absolute;border-left: 1px solid gray;box-sizing: border-box;top: 0;bottom: 0;left: 50%;z-index: -1;}#sk-container-id-1 div.sk-parallel-item {display: flex;flex-direction: column;z-index: 1;position: relative;background-color: white;}#sk-container-id-1 div.sk-parallel-item:first-child::after {align-self: flex-end;width: 50%;}#sk-container-id-1 div.sk-parallel-item:last-child::after {align-self: flex-start;width: 50%;}#sk-container-id-1 div.sk-parallel-item:only-child::after {width: 0;}#sk-container-id-1 div.sk-dashed-wrapped {border: 1px dashed gray;margin: 0 0.4em 0.5em 0.4em;box-sizing: border-box;padding-bottom: 0.4em;background-color: white;}#sk-container-id-1 div.sk-label label {font-family: monospace;font-weight: bold;display: inline-block;line-height: 1.2em;}#sk-container-id-1 div.sk-label-container {text-align: center;}#sk-container-id-1 div.sk-container {/* jupyter's `normalize.less` sets `[hidden] { display: none; }` but bootstrap.min.css set `[hidden] { display: none !important; }` so we also need the `!important` here to be able to override the default hidden behavior on the sphinx rendered scikit-learn.org. See: https://github.com/scikit-learn/scikit-learn/issues/21755 */display: inline-block !important;position: relative;}#sk-container-id-1 div.sk-text-repr-fallback {display: none;}</style><div id=\"sk-container-id-1\" class=\"sk-top-container\"><div class=\"sk-text-repr-fallback\"><pre>LogisticRegression()</pre><b>In a Jupyter environment, please rerun this cell to show the HTML representation or trust the notebook. <br />On GitHub, the HTML representation is unable to render, please try loading this page with nbviewer.org.</b></div><div class=\"sk-container\" hidden><div class=\"sk-item\"><div class=\"sk-estimator sk-toggleable\"><input class=\"sk-toggleable__control sk-hidden--visually\" id=\"sk-estimator-id-1\" type=\"checkbox\" checked><label for=\"sk-estimator-id-1\" class=\"sk-toggleable__label sk-toggleable__label-arrow\">LogisticRegression</label><div class=\"sk-toggleable__content\"><pre>LogisticRegression()</pre></div></div></div></div></div>"
      ],
      "text/plain": [
       "LogisticRegression()"
      ]
     },
     "execution_count": 14,
     "metadata": {},
     "output_type": "execute_result"
    }
   ],
   "source": [
    "\n",
    "Employees_attrition_model.fit(X_train, y_train)"
   ]
  },
  {
   "cell_type": "markdown",
   "id": "b6b50d71",
   "metadata": {
    "papermill": {
     "duration": 0.007364,
     "end_time": "2025-01-18T22:02:38.286912",
     "exception": false,
     "start_time": "2025-01-18T22:02:38.279548",
     "status": "completed"
    },
    "tags": []
   },
   "source": [
    "# Test data predictions"
   ]
  },
  {
   "cell_type": "code",
   "execution_count": 15,
   "id": "b2604f6c",
   "metadata": {
    "execution": {
     "iopub.execute_input": "2025-01-18T22:02:38.303647Z",
     "iopub.status.busy": "2025-01-18T22:02:38.303241Z",
     "iopub.status.idle": "2025-01-18T22:02:38.310225Z",
     "shell.execute_reply": "2025-01-18T22:02:38.309151Z"
    },
    "papermill": {
     "duration": 0.017206,
     "end_time": "2025-01-18T22:02:38.311760",
     "exception": false,
     "start_time": "2025-01-18T22:02:38.294554",
     "status": "completed"
    },
    "tags": []
   },
   "outputs": [
    {
     "data": {
      "text/plain": [
       "array([0, 1, 1, ..., 0, 0, 1])"
      ]
     },
     "execution_count": 15,
     "metadata": {},
     "output_type": "execute_result"
    }
   ],
   "source": [
    "y_pred=Employees_attrition_model.predict(X_test)\n",
    "y_pred"
   ]
  },
  {
   "cell_type": "markdown",
   "id": "871c2498",
   "metadata": {
    "papermill": {
     "duration": 0.007378,
     "end_time": "2025-01-18T22:02:38.326906",
     "exception": false,
     "start_time": "2025-01-18T22:02:38.319528",
     "status": "completed"
    },
    "tags": []
   },
   "source": [
    "# Accuracy score"
   ]
  },
  {
   "cell_type": "code",
   "execution_count": 16,
   "id": "0907814d",
   "metadata": {
    "execution": {
     "iopub.execute_input": "2025-01-18T22:02:38.343742Z",
     "iopub.status.busy": "2025-01-18T22:02:38.343359Z",
     "iopub.status.idle": "2025-01-18T22:02:38.350927Z",
     "shell.execute_reply": "2025-01-18T22:02:38.349873Z"
    },
    "papermill": {
     "duration": 0.017855,
     "end_time": "2025-01-18T22:02:38.352593",
     "exception": false,
     "start_time": "2025-01-18T22:02:38.334738",
     "status": "completed"
    },
    "tags": []
   },
   "outputs": [
    {
     "name": "stdout",
     "output_type": "stream",
     "text": [
      "Accuracy: 70.07%\n"
     ]
    }
   ],
   "source": [
    "accuracy = accuracy_score(y_test, y_pred)\n",
    "accuracy_percentage = accuracy * 100\n",
    "print(\"Accuracy: {:.2f}%\".format(accuracy_percentage))"
   ]
  },
  {
   "cell_type": "markdown",
   "id": "ca01eee1",
   "metadata": {
    "papermill": {
     "duration": 0.007655,
     "end_time": "2025-01-18T22:02:38.368060",
     "exception": false,
     "start_time": "2025-01-18T22:02:38.360405",
     "status": "completed"
    },
    "tags": []
   },
   "source": [
    "# Classification report"
   ]
  },
  {
   "cell_type": "code",
   "execution_count": 17,
   "id": "21f5e9f4",
   "metadata": {
    "execution": {
     "iopub.execute_input": "2025-01-18T22:02:38.384815Z",
     "iopub.status.busy": "2025-01-18T22:02:38.384431Z",
     "iopub.status.idle": "2025-01-18T22:02:38.415632Z",
     "shell.execute_reply": "2025-01-18T22:02:38.414505Z"
    },
    "papermill": {
     "duration": 0.04146,
     "end_time": "2025-01-18T22:02:38.417289",
     "exception": false,
     "start_time": "2025-01-18T22:02:38.375829",
     "status": "completed"
    },
    "tags": []
   },
   "outputs": [
    {
     "name": "stdout",
     "output_type": "stream",
     "text": [
      "              precision    recall  f1-score   support\n",
      "\n",
      "           0       0.69      0.68      0.68      5668\n",
      "           1       0.71      0.72      0.72      6252\n",
      "\n",
      "    accuracy                           0.70     11920\n",
      "   macro avg       0.70      0.70      0.70     11920\n",
      "weighted avg       0.70      0.70      0.70     11920\n",
      "\n"
     ]
    }
   ],
   "source": [
    "print(classification_report(y_test, y_pred))"
   ]
  },
  {
   "cell_type": "markdown",
   "id": "1fb1dba2",
   "metadata": {
    "papermill": {
     "duration": 0.007516,
     "end_time": "2025-01-18T22:02:38.432963",
     "exception": false,
     "start_time": "2025-01-18T22:02:38.425447",
     "status": "completed"
    },
    "tags": []
   },
   "source": [
    "# Confusion matrix"
   ]
  },
  {
   "cell_type": "code",
   "execution_count": 18,
   "id": "ee48f208",
   "metadata": {
    "execution": {
     "iopub.execute_input": "2025-01-18T22:02:38.450195Z",
     "iopub.status.busy": "2025-01-18T22:02:38.449770Z",
     "iopub.status.idle": "2025-01-18T22:02:38.459112Z",
     "shell.execute_reply": "2025-01-18T22:02:38.458062Z"
    },
    "papermill": {
     "duration": 0.019967,
     "end_time": "2025-01-18T22:02:38.460771",
     "exception": false,
     "start_time": "2025-01-18T22:02:38.440804",
     "status": "completed"
    },
    "tags": []
   },
   "outputs": [
    {
     "data": {
      "text/plain": [
       "array([[3852, 1816],\n",
       "       [1752, 4500]])"
      ]
     },
     "execution_count": 18,
     "metadata": {},
     "output_type": "execute_result"
    }
   ],
   "source": [
    "confusion_m =confusion_matrix(y_test, y_pred)\n",
    "confusion_m"
   ]
  },
  {
   "cell_type": "code",
   "execution_count": 19,
   "id": "fd600d05",
   "metadata": {
    "execution": {
     "iopub.execute_input": "2025-01-18T22:02:38.478443Z",
     "iopub.status.busy": "2025-01-18T22:02:38.478056Z",
     "iopub.status.idle": "2025-01-18T22:02:38.774162Z",
     "shell.execute_reply": "2025-01-18T22:02:38.772918Z"
    },
    "papermill": {
     "duration": 0.306732,
     "end_time": "2025-01-18T22:02:38.775832",
     "exception": false,
     "start_time": "2025-01-18T22:02:38.469100",
     "status": "completed"
    },
    "tags": []
   },
   "outputs": [
    {
     "data": {
      "image/png": "[encoded data removed]",
      "text/plain": [
       "<Figure size 500x500 with 2 Axes>"
      ]
     },
     "metadata": {},
     "output_type": "display_data"
    }
   ],
   "source": [
    "plt.figure(figsize=(5, 5))\n",
    "sns.heatmap(confusion_m, \n",
    "            annot=True, \n",
    "            fmt='d', \n",
    "            cmap='pink',\n",
    "            xticklabels=['0(Left)', '1(Stayed)'],\n",
    "            yticklabels=['0(Left)', '1(Stayed)'])\n",
    "plt.title('Confusion Matrix')\n",
    "plt.xlabel('Predicted')\n",
    "plt.ylabel('Actual')\n",
    "plt.show()"
   ]
  }
 ],
 "metadata": {
  "kaggle": {
   "accelerator": "none",
   "dataSources": [
    {
     "datasetId": 5189533,
     "sourceId": 8664641,
     "sourceType": "datasetVersion"
    }
   ],
   "isGpuEnabled": false,
   "isInternetEnabled": true,
   "language": "python",
   "sourceType": "notebook"
  },
  "kernelspec": {
   "display_name": "Python 3",
   "language": "python",
   "name": "python3"
  },
  "language_info": {
   "codemirror_mode": {
    "name": "ipython",
    "version": 3
   },
   "file_extension": ".py",
   "mimetype": "text/x-python",
   "name": "python",
   "nbconvert_exporter": "python",
   "pygments_lexer": "ipython3",
   "version": "3.10.12"
  },
  "papermill": {
   "default_parameters": {},
   "duration": 8.584878,
   "end_time": "2025-01-18T22:02:39.506173",
   "environment_variables": {},
   "exception": null,
   "input_path": "__notebook__.ipynb",
   "output_path": "__notebook__.ipynb",
   "parameters": {},
   "start_time": "2025-01-18T22:02:30.921295",
   "version": "2.6.0"
  }
 },
 "nbformat": 4,
 "nbformat_minor": 5
}
